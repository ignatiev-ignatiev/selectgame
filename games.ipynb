{
 "cells": [
  {
   "cell_type": "markdown",
   "metadata": {},
   "source": [
    "**Описание проекта**\n",
    "\n",
    "Вы работаете в интернет-магазине «Стримчик», который продаёт по всему миру компьютерные игры. Из открытых источников доступны исторические данные о продажах игр, оценки пользователей и экспертов, жанры и платформы (например, Xbox или PlayStation). Вам нужно выявить определяющие успешность игры закономерности. Это позволит сделать ставку на потенциально популярный продукт и спланировать рекламные кампании. Перед вами данные до 2016 года. Представим, что сейчас декабрь 2016 г., и вы планируете кампанию на 2017-й. Нужно отработать принцип работы с данными. Неважно, прогнозируете ли вы продажи на 2017 год по данным 2016-го или же 2027-й — по данным 2026 года. В наборе данных попадается аббревиатура ESRB (Entertainment Software Rating Board) — это ассоциация, определяющая возрастной рейтинг компьютерных игр. ESRB оценивает игровой контент и присваивает ему подходящую возрастную категорию, например, «Для взрослых», «Для детей младшего возраста» или «Для подростков»."
   ]
  },
  {
   "cell_type": "markdown",
   "metadata": {},
   "source": [
    "**Цель**\n",
    "\n",
    "Выявить определяющие успешность игры закономерности. Это позволит сделать ставку на потенциально популярный продукт и спланировать рекламные кампании."
   ]
  },
  {
   "cell_type": "code",
   "execution_count": 1,
   "metadata": {},
   "outputs": [],
   "source": [
    "import pandas as pd\n",
    "import numpy as np\n",
    "import matplotlib.pyplot as plt\n",
    "from scipy.stats import ttest_ind\n",
    "import seaborn as sns\n",
    "from scipy import stats as st"
   ]
  },
  {
   "cell_type": "code",
   "execution_count": 2,
   "metadata": {},
   "outputs": [],
   "source": [
    "data = pd.read_csv('/datasets/games.csv')"
   ]
  },
  {
   "cell_type": "code",
   "execution_count": 3,
   "metadata": {},
   "outputs": [
    {
     "data": {
      "text/html": [
       "<div>\n",
       "<style scoped>\n",
       "    .dataframe tbody tr th:only-of-type {\n",
       "        vertical-align: middle;\n",
       "    }\n",
       "\n",
       "    .dataframe tbody tr th {\n",
       "        vertical-align: top;\n",
       "    }\n",
       "\n",
       "    .dataframe thead th {\n",
       "        text-align: right;\n",
       "    }\n",
       "</style>\n",
       "<table border=\"1\" class=\"dataframe\">\n",
       "  <thead>\n",
       "    <tr style=\"text-align: right;\">\n",
       "      <th></th>\n",
       "      <th>Name</th>\n",
       "      <th>Platform</th>\n",
       "      <th>Year_of_Release</th>\n",
       "      <th>Genre</th>\n",
       "      <th>NA_sales</th>\n",
       "      <th>EU_sales</th>\n",
       "      <th>JP_sales</th>\n",
       "      <th>Other_sales</th>\n",
       "      <th>Critic_Score</th>\n",
       "      <th>User_Score</th>\n",
       "      <th>Rating</th>\n",
       "    </tr>\n",
       "  </thead>\n",
       "  <tbody>\n",
       "    <tr>\n",
       "      <th>0</th>\n",
       "      <td>Wii Sports</td>\n",
       "      <td>Wii</td>\n",
       "      <td>2006.0</td>\n",
       "      <td>Sports</td>\n",
       "      <td>41.36</td>\n",
       "      <td>28.96</td>\n",
       "      <td>3.77</td>\n",
       "      <td>8.45</td>\n",
       "      <td>76.0</td>\n",
       "      <td>8</td>\n",
       "      <td>E</td>\n",
       "    </tr>\n",
       "    <tr>\n",
       "      <th>1</th>\n",
       "      <td>Super Mario Bros.</td>\n",
       "      <td>NES</td>\n",
       "      <td>1985.0</td>\n",
       "      <td>Platform</td>\n",
       "      <td>29.08</td>\n",
       "      <td>3.58</td>\n",
       "      <td>6.81</td>\n",
       "      <td>0.77</td>\n",
       "      <td>NaN</td>\n",
       "      <td>NaN</td>\n",
       "      <td>NaN</td>\n",
       "    </tr>\n",
       "    <tr>\n",
       "      <th>2</th>\n",
       "      <td>Mario Kart Wii</td>\n",
       "      <td>Wii</td>\n",
       "      <td>2008.0</td>\n",
       "      <td>Racing</td>\n",
       "      <td>15.68</td>\n",
       "      <td>12.76</td>\n",
       "      <td>3.79</td>\n",
       "      <td>3.29</td>\n",
       "      <td>82.0</td>\n",
       "      <td>8.3</td>\n",
       "      <td>E</td>\n",
       "    </tr>\n",
       "    <tr>\n",
       "      <th>3</th>\n",
       "      <td>Wii Sports Resort</td>\n",
       "      <td>Wii</td>\n",
       "      <td>2009.0</td>\n",
       "      <td>Sports</td>\n",
       "      <td>15.61</td>\n",
       "      <td>10.93</td>\n",
       "      <td>3.28</td>\n",
       "      <td>2.95</td>\n",
       "      <td>80.0</td>\n",
       "      <td>8</td>\n",
       "      <td>E</td>\n",
       "    </tr>\n",
       "    <tr>\n",
       "      <th>4</th>\n",
       "      <td>Pokemon Red/Pokemon Blue</td>\n",
       "      <td>GB</td>\n",
       "      <td>1996.0</td>\n",
       "      <td>Role-Playing</td>\n",
       "      <td>11.27</td>\n",
       "      <td>8.89</td>\n",
       "      <td>10.22</td>\n",
       "      <td>1.00</td>\n",
       "      <td>NaN</td>\n",
       "      <td>NaN</td>\n",
       "      <td>NaN</td>\n",
       "    </tr>\n",
       "    <tr>\n",
       "      <th>5</th>\n",
       "      <td>Tetris</td>\n",
       "      <td>GB</td>\n",
       "      <td>1989.0</td>\n",
       "      <td>Puzzle</td>\n",
       "      <td>23.20</td>\n",
       "      <td>2.26</td>\n",
       "      <td>4.22</td>\n",
       "      <td>0.58</td>\n",
       "      <td>NaN</td>\n",
       "      <td>NaN</td>\n",
       "      <td>NaN</td>\n",
       "    </tr>\n",
       "    <tr>\n",
       "      <th>6</th>\n",
       "      <td>New Super Mario Bros.</td>\n",
       "      <td>DS</td>\n",
       "      <td>2006.0</td>\n",
       "      <td>Platform</td>\n",
       "      <td>11.28</td>\n",
       "      <td>9.14</td>\n",
       "      <td>6.50</td>\n",
       "      <td>2.88</td>\n",
       "      <td>89.0</td>\n",
       "      <td>8.5</td>\n",
       "      <td>E</td>\n",
       "    </tr>\n",
       "    <tr>\n",
       "      <th>7</th>\n",
       "      <td>Wii Play</td>\n",
       "      <td>Wii</td>\n",
       "      <td>2006.0</td>\n",
       "      <td>Misc</td>\n",
       "      <td>13.96</td>\n",
       "      <td>9.18</td>\n",
       "      <td>2.93</td>\n",
       "      <td>2.84</td>\n",
       "      <td>58.0</td>\n",
       "      <td>6.6</td>\n",
       "      <td>E</td>\n",
       "    </tr>\n",
       "    <tr>\n",
       "      <th>8</th>\n",
       "      <td>New Super Mario Bros. Wii</td>\n",
       "      <td>Wii</td>\n",
       "      <td>2009.0</td>\n",
       "      <td>Platform</td>\n",
       "      <td>14.44</td>\n",
       "      <td>6.94</td>\n",
       "      <td>4.70</td>\n",
       "      <td>2.24</td>\n",
       "      <td>87.0</td>\n",
       "      <td>8.4</td>\n",
       "      <td>E</td>\n",
       "    </tr>\n",
       "    <tr>\n",
       "      <th>9</th>\n",
       "      <td>Duck Hunt</td>\n",
       "      <td>NES</td>\n",
       "      <td>1984.0</td>\n",
       "      <td>Shooter</td>\n",
       "      <td>26.93</td>\n",
       "      <td>0.63</td>\n",
       "      <td>0.28</td>\n",
       "      <td>0.47</td>\n",
       "      <td>NaN</td>\n",
       "      <td>NaN</td>\n",
       "      <td>NaN</td>\n",
       "    </tr>\n",
       "  </tbody>\n",
       "</table>\n",
       "</div>"
      ],
      "text/plain": [
       "                        Name Platform  Year_of_Release         Genre  \\\n",
       "0                 Wii Sports      Wii           2006.0        Sports   \n",
       "1          Super Mario Bros.      NES           1985.0      Platform   \n",
       "2             Mario Kart Wii      Wii           2008.0        Racing   \n",
       "3          Wii Sports Resort      Wii           2009.0        Sports   \n",
       "4   Pokemon Red/Pokemon Blue       GB           1996.0  Role-Playing   \n",
       "5                     Tetris       GB           1989.0        Puzzle   \n",
       "6      New Super Mario Bros.       DS           2006.0      Platform   \n",
       "7                   Wii Play      Wii           2006.0          Misc   \n",
       "8  New Super Mario Bros. Wii      Wii           2009.0      Platform   \n",
       "9                  Duck Hunt      NES           1984.0       Shooter   \n",
       "\n",
       "   NA_sales  EU_sales  JP_sales  Other_sales  Critic_Score User_Score Rating  \n",
       "0     41.36     28.96      3.77         8.45          76.0          8      E  \n",
       "1     29.08      3.58      6.81         0.77           NaN        NaN    NaN  \n",
       "2     15.68     12.76      3.79         3.29          82.0        8.3      E  \n",
       "3     15.61     10.93      3.28         2.95          80.0          8      E  \n",
       "4     11.27      8.89     10.22         1.00           NaN        NaN    NaN  \n",
       "5     23.20      2.26      4.22         0.58           NaN        NaN    NaN  \n",
       "6     11.28      9.14      6.50         2.88          89.0        8.5      E  \n",
       "7     13.96      9.18      2.93         2.84          58.0        6.6      E  \n",
       "8     14.44      6.94      4.70         2.24          87.0        8.4      E  \n",
       "9     26.93      0.63      0.28         0.47           NaN        NaN    NaN  "
      ]
     },
     "execution_count": 3,
     "metadata": {},
     "output_type": "execute_result"
    }
   ],
   "source": [
    "data.head(10)"
   ]
  },
  {
   "cell_type": "code",
   "execution_count": 4,
   "metadata": {},
   "outputs": [
    {
     "name": "stdout",
     "output_type": "stream",
     "text": [
      "<class 'pandas.core.frame.DataFrame'>\n",
      "RangeIndex: 16715 entries, 0 to 16714\n",
      "Data columns (total 11 columns):\n",
      " #   Column           Non-Null Count  Dtype  \n",
      "---  ------           --------------  -----  \n",
      " 0   Name             16713 non-null  object \n",
      " 1   Platform         16715 non-null  object \n",
      " 2   Year_of_Release  16446 non-null  float64\n",
      " 3   Genre            16713 non-null  object \n",
      " 4   NA_sales         16715 non-null  float64\n",
      " 5   EU_sales         16715 non-null  float64\n",
      " 6   JP_sales         16715 non-null  float64\n",
      " 7   Other_sales      16715 non-null  float64\n",
      " 8   Critic_Score     8137 non-null   float64\n",
      " 9   User_Score       10014 non-null  object \n",
      " 10  Rating           9949 non-null   object \n",
      "dtypes: float64(6), object(5)\n",
      "memory usage: 1.4+ MB\n"
     ]
    }
   ],
   "source": [
    "data.info()"
   ]
  },
  {
   "cell_type": "markdown",
   "metadata": {},
   "source": [
    "Предобработка данных.\n",
    "Приведем названия столбцов к нижнему регистру"
   ]
  },
  {
   "cell_type": "code",
   "execution_count": 5,
   "metadata": {},
   "outputs": [
    {
     "data": {
      "text/plain": [
       "Index(['name', 'platform', 'year_of_release', 'genre', 'na_sales', 'eu_sales',\n",
       "       'jp_sales', 'other_sales', 'critic_score', 'user_score', 'rating'],\n",
       "      dtype='object')"
      ]
     },
     "execution_count": 5,
     "metadata": {},
     "output_type": "execute_result"
    }
   ],
   "source": [
    "data.columns = data.columns.str.lower()\n",
    "data.columns"
   ]
  },
  {
   "cell_type": "code",
   "execution_count": 6,
   "metadata": {},
   "outputs": [
    {
     "data": {
      "text/plain": [
       "name                  2\n",
       "platform              0\n",
       "year_of_release     269\n",
       "genre                 2\n",
       "na_sales              0\n",
       "eu_sales              0\n",
       "jp_sales              0\n",
       "other_sales           0\n",
       "critic_score       8578\n",
       "user_score         6701\n",
       "rating             6766\n",
       "dtype: int64"
      ]
     },
     "execution_count": 6,
     "metadata": {},
     "output_type": "execute_result"
    }
   ],
   "source": [
    "#смотрим где пропуски\n",
    "data.isna().sum()"
   ]
  },
  {
   "cell_type": "code",
   "execution_count": 7,
   "metadata": {},
   "outputs": [
    {
     "data": {
      "text/html": [
       "<div>\n",
       "<style scoped>\n",
       "    .dataframe tbody tr th:only-of-type {\n",
       "        vertical-align: middle;\n",
       "    }\n",
       "\n",
       "    .dataframe tbody tr th {\n",
       "        vertical-align: top;\n",
       "    }\n",
       "\n",
       "    .dataframe thead th {\n",
       "        text-align: right;\n",
       "    }\n",
       "</style>\n",
       "<table border=\"1\" class=\"dataframe\">\n",
       "  <thead>\n",
       "    <tr style=\"text-align: right;\">\n",
       "      <th></th>\n",
       "      <th>name</th>\n",
       "      <th>platform</th>\n",
       "      <th>year_of_release</th>\n",
       "      <th>genre</th>\n",
       "      <th>na_sales</th>\n",
       "      <th>eu_sales</th>\n",
       "      <th>jp_sales</th>\n",
       "      <th>other_sales</th>\n",
       "      <th>critic_score</th>\n",
       "      <th>user_score</th>\n",
       "      <th>rating</th>\n",
       "    </tr>\n",
       "  </thead>\n",
       "  <tbody>\n",
       "    <tr>\n",
       "      <th>659</th>\n",
       "      <td>NaN</td>\n",
       "      <td>GEN</td>\n",
       "      <td>1993.0</td>\n",
       "      <td>NaN</td>\n",
       "      <td>1.78</td>\n",
       "      <td>0.53</td>\n",
       "      <td>0.00</td>\n",
       "      <td>0.08</td>\n",
       "      <td>NaN</td>\n",
       "      <td>NaN</td>\n",
       "      <td>NaN</td>\n",
       "    </tr>\n",
       "    <tr>\n",
       "      <th>14244</th>\n",
       "      <td>NaN</td>\n",
       "      <td>GEN</td>\n",
       "      <td>1993.0</td>\n",
       "      <td>NaN</td>\n",
       "      <td>0.00</td>\n",
       "      <td>0.00</td>\n",
       "      <td>0.03</td>\n",
       "      <td>0.00</td>\n",
       "      <td>NaN</td>\n",
       "      <td>NaN</td>\n",
       "      <td>NaN</td>\n",
       "    </tr>\n",
       "  </tbody>\n",
       "</table>\n",
       "</div>"
      ],
      "text/plain": [
       "      name platform  year_of_release genre  na_sales  eu_sales  jp_sales  \\\n",
       "659    NaN      GEN           1993.0   NaN      1.78      0.53      0.00   \n",
       "14244  NaN      GEN           1993.0   NaN      0.00      0.00      0.03   \n",
       "\n",
       "       other_sales  critic_score user_score rating  \n",
       "659           0.08           NaN        NaN    NaN  \n",
       "14244         0.00           NaN        NaN    NaN  "
      ]
     },
     "execution_count": 7,
     "metadata": {},
     "output_type": "execute_result"
    }
   ],
   "source": [
    "data.query('genre.isna()')"
   ]
  },
  {
   "cell_type": "code",
   "execution_count": 8,
   "metadata": {},
   "outputs": [],
   "source": [
    "# удаляем строки, где 'name' и 'genre' не заполнено(они совпадают), так как по ним не заполнено половина колонок и в дальнейшем мы их не сможем все равно использовать\n",
    "data = data.dropna(subset=['name']).reset_index(drop=True)"
   ]
  },
  {
   "cell_type": "code",
   "execution_count": 9,
   "metadata": {},
   "outputs": [],
   "source": [
    "#меняем названия столбцов\n",
    "data.rename(columns={'year_of_release':'year', 'na_sales':'na', 'jp_sales':'jp', 'eu_sales':'eu', 'other_sales':'other'}, inplace=True)"
   ]
  },
  {
   "cell_type": "code",
   "execution_count": 10,
   "metadata": {},
   "outputs": [
    {
     "data": {
      "text/plain": [
       "array(['8', nan, '8.3', '8.5', '6.6', '8.4', '8.6', '7.7', '6.3', '7.4',\n",
       "       '8.2', '9', '7.9', '8.1', '8.7', '7.1', '3.4', '5.3', '4.8', '3.2',\n",
       "       '8.9', '6.4', '7.8', '7.5', '2.6', '7.2', '9.2', '7', '7.3', '4.3',\n",
       "       '7.6', '5.7', '5', '9.1', '6.5', 'tbd', '8.8', '6.9', '9.4', '6.8',\n",
       "       '6.1', '6.7', '5.4', '4', '4.9', '4.5', '9.3', '6.2', '4.2', '6',\n",
       "       '3.7', '4.1', '5.8', '5.6', '5.5', '4.4', '4.6', '5.9', '3.9',\n",
       "       '3.1', '2.9', '5.2', '3.3', '4.7', '5.1', '3.5', '2.5', '1.9', '3',\n",
       "       '2.7', '2.2', '2', '9.5', '2.1', '3.6', '2.8', '1.8', '3.8', '0',\n",
       "       '1.6', '9.6', '2.4', '1.7', '1.1', '0.3', '1.5', '0.7', '1.2',\n",
       "       '2.3', '0.5', '1.3', '0.2', '0.6', '1.4', '0.9', '1', '9.7'],\n",
       "      dtype=object)"
      ]
     },
     "execution_count": 10,
     "metadata": {},
     "output_type": "execute_result"
    }
   ],
   "source": [
    "#меняем тип данных\n",
    "data[['year', 'critic_score']] = data[['year', 'critic_score']].astype('Int64')\n",
    "data['user_score'].unique()"
   ]
  },
  {
   "cell_type": "code",
   "execution_count": 11,
   "metadata": {},
   "outputs": [],
   "source": [
    "#обнаружили аббревиатуру 'tbd', меняем на nan\n",
    "data.loc[data['user_score'] == 'tbd', 'user_score'] = np.nan\n",
    "data['user_score'].unique()\n",
    "data['user_score'] = data['user_score'].astype('float')"
   ]
  },
  {
   "cell_type": "code",
   "execution_count": 12,
   "metadata": {},
   "outputs": [
    {
     "data": {
      "text/plain": [
       "<IntegerArray>\n",
       "[  76, <NA>,   82,   80,   89,   58,   87,   91,   61,   97,   95,   77,   88,\n",
       "   83,   94,   93,   85,   86,   98,   96,   90,   84,   73,   74,   78,   92,\n",
       "   71,   72,   68,   62,   49,   67,   81,   66,   56,   79,   70,   59,   64,\n",
       "   75,   60,   63,   69,   50,   25,   42,   44,   55,   48,   57,   29,   47,\n",
       "   65,   54,   20,   53,   37,   38,   33,   52,   30,   32,   43,   45,   51,\n",
       "   40,   46,   39,   34,   35,   41,   36,   28,   31,   27,   26,   19,   23,\n",
       "   24,   21,   17,   22,   13]\n",
       "Length: 83, dtype: Int64"
      ]
     },
     "execution_count": 12,
     "metadata": {},
     "output_type": "execute_result"
    }
   ],
   "source": [
    "data['critic_score'].unique()"
   ]
  },
  {
   "cell_type": "code",
   "execution_count": 13,
   "metadata": {},
   "outputs": [
    {
     "data": {
      "text/plain": [
       "array(['E', nan, 'M', 'T', 'E10+', 'K-A', 'AO', 'EC', 'RP'], dtype=object)"
      ]
     },
     "execution_count": 13,
     "metadata": {},
     "output_type": "execute_result"
    }
   ],
   "source": [
    "data['rating'].unique()"
   ]
  },
  {
   "cell_type": "code",
   "execution_count": 14,
   "metadata": {},
   "outputs": [
    {
     "data": {
      "text/plain": [
       "0        82.54\n",
       "1        40.24\n",
       "2        35.52\n",
       "3        32.77\n",
       "4        31.38\n",
       "         ...  \n",
       "16708     0.01\n",
       "16709     0.01\n",
       "16710     0.01\n",
       "16711     0.01\n",
       "16712     0.01\n",
       "Name: total_sales, Length: 16713, dtype: float64"
      ]
     },
     "execution_count": 14,
     "metadata": {},
     "output_type": "execute_result"
    }
   ],
   "source": [
    "data['total_sales'] = data['na'] + data['eu'] + data['jp'] + data['other']\n",
    "data['total_sales']"
   ]
  },
  {
   "cell_type": "code",
   "execution_count": 15,
   "metadata": {},
   "outputs": [
    {
     "name": "stdout",
     "output_type": "stream",
     "text": [
      "<class 'pandas.core.frame.DataFrame'>\n",
      "RangeIndex: 16713 entries, 0 to 16712\n",
      "Data columns (total 12 columns):\n",
      " #   Column        Non-Null Count  Dtype  \n",
      "---  ------        --------------  -----  \n",
      " 0   name          16713 non-null  object \n",
      " 1   platform      16713 non-null  object \n",
      " 2   year          16444 non-null  Int64  \n",
      " 3   genre         16713 non-null  object \n",
      " 4   na            16713 non-null  float64\n",
      " 5   eu            16713 non-null  float64\n",
      " 6   jp            16713 non-null  float64\n",
      " 7   other         16713 non-null  float64\n",
      " 8   critic_score  8137 non-null   Int64  \n",
      " 9   user_score    7590 non-null   float64\n",
      " 10  rating        9949 non-null   object \n",
      " 11  total_sales   16713 non-null  float64\n",
      "dtypes: Int64(2), float64(6), object(4)\n",
      "memory usage: 1.6+ MB\n"
     ]
    }
   ],
   "source": [
    "data.info()"
   ]
  },
  {
   "cell_type": "code",
   "execution_count": 16,
   "metadata": {},
   "outputs": [
    {
     "data": {
      "text/html": [
       "<div>\n",
       "<style scoped>\n",
       "    .dataframe tbody tr th:only-of-type {\n",
       "        vertical-align: middle;\n",
       "    }\n",
       "\n",
       "    .dataframe tbody tr th {\n",
       "        vertical-align: top;\n",
       "    }\n",
       "\n",
       "    .dataframe thead th {\n",
       "        text-align: right;\n",
       "    }\n",
       "</style>\n",
       "<table border=\"1\" class=\"dataframe\">\n",
       "  <thead>\n",
       "    <tr style=\"text-align: right;\">\n",
       "      <th></th>\n",
       "      <th>name</th>\n",
       "      <th>platform</th>\n",
       "      <th>year</th>\n",
       "      <th>genre</th>\n",
       "      <th>na</th>\n",
       "      <th>eu</th>\n",
       "      <th>jp</th>\n",
       "      <th>other</th>\n",
       "      <th>critic_score</th>\n",
       "      <th>user_score</th>\n",
       "      <th>rating</th>\n",
       "      <th>total_sales</th>\n",
       "    </tr>\n",
       "  </thead>\n",
       "  <tbody>\n",
       "    <tr>\n",
       "      <th>0</th>\n",
       "      <td>Wii Sports</td>\n",
       "      <td>Wii</td>\n",
       "      <td>2006</td>\n",
       "      <td>Sports</td>\n",
       "      <td>41.36</td>\n",
       "      <td>28.96</td>\n",
       "      <td>3.77</td>\n",
       "      <td>8.45</td>\n",
       "      <td>76</td>\n",
       "      <td>8.0</td>\n",
       "      <td>E</td>\n",
       "      <td>82.54</td>\n",
       "    </tr>\n",
       "    <tr>\n",
       "      <th>1</th>\n",
       "      <td>Super Mario Bros.</td>\n",
       "      <td>NES</td>\n",
       "      <td>1985</td>\n",
       "      <td>Platform</td>\n",
       "      <td>29.08</td>\n",
       "      <td>3.58</td>\n",
       "      <td>6.81</td>\n",
       "      <td>0.77</td>\n",
       "      <td>&lt;NA&gt;</td>\n",
       "      <td>NaN</td>\n",
       "      <td>NaN</td>\n",
       "      <td>40.24</td>\n",
       "    </tr>\n",
       "    <tr>\n",
       "      <th>2</th>\n",
       "      <td>Mario Kart Wii</td>\n",
       "      <td>Wii</td>\n",
       "      <td>2008</td>\n",
       "      <td>Racing</td>\n",
       "      <td>15.68</td>\n",
       "      <td>12.76</td>\n",
       "      <td>3.79</td>\n",
       "      <td>3.29</td>\n",
       "      <td>82</td>\n",
       "      <td>8.3</td>\n",
       "      <td>E</td>\n",
       "      <td>35.52</td>\n",
       "    </tr>\n",
       "    <tr>\n",
       "      <th>3</th>\n",
       "      <td>Wii Sports Resort</td>\n",
       "      <td>Wii</td>\n",
       "      <td>2009</td>\n",
       "      <td>Sports</td>\n",
       "      <td>15.61</td>\n",
       "      <td>10.93</td>\n",
       "      <td>3.28</td>\n",
       "      <td>2.95</td>\n",
       "      <td>80</td>\n",
       "      <td>8.0</td>\n",
       "      <td>E</td>\n",
       "      <td>32.77</td>\n",
       "    </tr>\n",
       "    <tr>\n",
       "      <th>4</th>\n",
       "      <td>Pokemon Red/Pokemon Blue</td>\n",
       "      <td>GB</td>\n",
       "      <td>1996</td>\n",
       "      <td>Role-Playing</td>\n",
       "      <td>11.27</td>\n",
       "      <td>8.89</td>\n",
       "      <td>10.22</td>\n",
       "      <td>1.00</td>\n",
       "      <td>&lt;NA&gt;</td>\n",
       "      <td>NaN</td>\n",
       "      <td>NaN</td>\n",
       "      <td>31.38</td>\n",
       "    </tr>\n",
       "    <tr>\n",
       "      <th>5</th>\n",
       "      <td>Tetris</td>\n",
       "      <td>GB</td>\n",
       "      <td>1989</td>\n",
       "      <td>Puzzle</td>\n",
       "      <td>23.20</td>\n",
       "      <td>2.26</td>\n",
       "      <td>4.22</td>\n",
       "      <td>0.58</td>\n",
       "      <td>&lt;NA&gt;</td>\n",
       "      <td>NaN</td>\n",
       "      <td>NaN</td>\n",
       "      <td>30.26</td>\n",
       "    </tr>\n",
       "    <tr>\n",
       "      <th>6</th>\n",
       "      <td>New Super Mario Bros.</td>\n",
       "      <td>DS</td>\n",
       "      <td>2006</td>\n",
       "      <td>Platform</td>\n",
       "      <td>11.28</td>\n",
       "      <td>9.14</td>\n",
       "      <td>6.50</td>\n",
       "      <td>2.88</td>\n",
       "      <td>89</td>\n",
       "      <td>8.5</td>\n",
       "      <td>E</td>\n",
       "      <td>29.80</td>\n",
       "    </tr>\n",
       "    <tr>\n",
       "      <th>7</th>\n",
       "      <td>Wii Play</td>\n",
       "      <td>Wii</td>\n",
       "      <td>2006</td>\n",
       "      <td>Misc</td>\n",
       "      <td>13.96</td>\n",
       "      <td>9.18</td>\n",
       "      <td>2.93</td>\n",
       "      <td>2.84</td>\n",
       "      <td>58</td>\n",
       "      <td>6.6</td>\n",
       "      <td>E</td>\n",
       "      <td>28.91</td>\n",
       "    </tr>\n",
       "    <tr>\n",
       "      <th>8</th>\n",
       "      <td>New Super Mario Bros. Wii</td>\n",
       "      <td>Wii</td>\n",
       "      <td>2009</td>\n",
       "      <td>Platform</td>\n",
       "      <td>14.44</td>\n",
       "      <td>6.94</td>\n",
       "      <td>4.70</td>\n",
       "      <td>2.24</td>\n",
       "      <td>87</td>\n",
       "      <td>8.4</td>\n",
       "      <td>E</td>\n",
       "      <td>28.32</td>\n",
       "    </tr>\n",
       "    <tr>\n",
       "      <th>9</th>\n",
       "      <td>Duck Hunt</td>\n",
       "      <td>NES</td>\n",
       "      <td>1984</td>\n",
       "      <td>Shooter</td>\n",
       "      <td>26.93</td>\n",
       "      <td>0.63</td>\n",
       "      <td>0.28</td>\n",
       "      <td>0.47</td>\n",
       "      <td>&lt;NA&gt;</td>\n",
       "      <td>NaN</td>\n",
       "      <td>NaN</td>\n",
       "      <td>28.31</td>\n",
       "    </tr>\n",
       "  </tbody>\n",
       "</table>\n",
       "</div>"
      ],
      "text/plain": [
       "                        name platform  year         genre     na     eu  \\\n",
       "0                 Wii Sports      Wii  2006        Sports  41.36  28.96   \n",
       "1          Super Mario Bros.      NES  1985      Platform  29.08   3.58   \n",
       "2             Mario Kart Wii      Wii  2008        Racing  15.68  12.76   \n",
       "3          Wii Sports Resort      Wii  2009        Sports  15.61  10.93   \n",
       "4   Pokemon Red/Pokemon Blue       GB  1996  Role-Playing  11.27   8.89   \n",
       "5                     Tetris       GB  1989        Puzzle  23.20   2.26   \n",
       "6      New Super Mario Bros.       DS  2006      Platform  11.28   9.14   \n",
       "7                   Wii Play      Wii  2006          Misc  13.96   9.18   \n",
       "8  New Super Mario Bros. Wii      Wii  2009      Platform  14.44   6.94   \n",
       "9                  Duck Hunt      NES  1984       Shooter  26.93   0.63   \n",
       "\n",
       "      jp  other  critic_score  user_score rating  total_sales  \n",
       "0   3.77   8.45            76         8.0      E        82.54  \n",
       "1   6.81   0.77          <NA>         NaN    NaN        40.24  \n",
       "2   3.79   3.29            82         8.3      E        35.52  \n",
       "3   3.28   2.95            80         8.0      E        32.77  \n",
       "4  10.22   1.00          <NA>         NaN    NaN        31.38  \n",
       "5   4.22   0.58          <NA>         NaN    NaN        30.26  \n",
       "6   6.50   2.88            89         8.5      E        29.80  \n",
       "7   2.93   2.84            58         6.6      E        28.91  \n",
       "8   4.70   2.24            87         8.4      E        28.32  \n",
       "9   0.28   0.47          <NA>         NaN    NaN        28.31  "
      ]
     },
     "execution_count": 16,
     "metadata": {},
     "output_type": "execute_result"
    }
   ],
   "source": [
    "data.head(10)"
   ]
  },
  {
   "cell_type": "code",
   "execution_count": 17,
   "metadata": {},
   "outputs": [],
   "source": [
    "data['year'] = data['year'].fillna(0)\n",
    "# заполняем пропущенные значения , также можно значения удалить, но строк достаточно много"
   ]
  },
  {
   "cell_type": "code",
   "execution_count": 18,
   "metadata": {},
   "outputs": [],
   "source": [
    "# считаем суммы всех продаж\n",
    "#data['total_sales'] = data['na'] + data['eu'] + data['jp'] + data['other']\n",
    "#data['total_sales']\n",
    "# я не учел если все заменить на 0, то ничего не поменяется)) "
   ]
  },
  {
   "cell_type": "markdown",
   "metadata": {},
   "source": [
    "**Видим много пропусков в столбцах rating, critic_score, user_score. Удалять их не будем, отработаем с ними позже.**"
   ]
  },
  {
   "cell_type": "code",
   "execution_count": 19,
   "metadata": {},
   "outputs": [
    {
     "data": {
      "text/plain": [
       "0"
      ]
     },
     "execution_count": 19,
     "metadata": {},
     "output_type": "execute_result"
    }
   ],
   "source": [
    "# \n",
    "data.duplicated().sum()"
   ]
  },
  {
   "cell_type": "code",
   "execution_count": 20,
   "metadata": {},
   "outputs": [
    {
     "data": {
      "text/plain": [
       "1"
      ]
     },
     "execution_count": 20,
     "metadata": {},
     "output_type": "execute_result"
    }
   ],
   "source": [
    "# проверяем 3 ключевые столбца на неявные дубликаты\n",
    "data.duplicated(subset = ['name', 'platform', 'year']).sum()"
   ]
  },
  {
   "cell_type": "code",
   "execution_count": 21,
   "metadata": {},
   "outputs": [
    {
     "name": "stdout",
     "output_type": "stream",
     "text": [
      "                name platform  year   genre   na    eu   jp  other  \\\n",
      "16228  Madden NFL 13      PS3  2012  Sports  0.0  0.01  0.0    0.0   \n",
      "\n",
      "       critic_score  user_score rating  total_sales  \n",
      "16228            83         5.5      E         0.01  \n"
     ]
    }
   ],
   "source": [
    "# находим тот самый 1 дубликат , в приницпе он ни на что не влияет, его можно удалить\n",
    "duplicated_df = data[data.duplicated(subset = ['name', 'platform', 'year'])].head()\n",
    "print(duplicated_df) "
   ]
  },
  {
   "cell_type": "code",
   "execution_count": 22,
   "metadata": {},
   "outputs": [
    {
     "name": "stdout",
     "output_type": "stream",
     "text": [
      "Empty DataFrame\n",
      "Columns: [name, platform, year, genre, na, eu, jp, other, critic_score, user_score, rating, total_sales]\n",
      "Index: []\n"
     ]
    }
   ],
   "source": [
    "data = data.drop_duplicates(subset = ['name', 'platform', 'year']).reset_index(drop=True)\n",
    "duplicated_df = data[data.duplicated(subset = ['name', 'platform', 'year'])].head()\n",
    "print(duplicated_df) "
   ]
  },
  {
   "cell_type": "markdown",
   "metadata": {},
   "source": [
    "Пропуски могли возникнуть по многим причинам, например: невелся опрос с оценкой игры, игра не популярна и ее никто не оценивал, техническая ошибка и прочее. Мы видим что пропуски в столбцах : оценка от пользователей, от критиков и общий рейтинг. У них примерная корелляция по пропущенным значениям, примерно поровну. Насколько я вижу из таблицы пропуски от 80 до 97 года, скорей всего в эти годы такой графы(пункта) не было."
   ]
  },
  {
   "cell_type": "markdown",
   "metadata": {},
   "source": [
    "**Проведем исследовательский анализ данных**"
   ]
  },
  {
   "cell_type": "code",
   "execution_count": 23,
   "metadata": {},
   "outputs": [
    {
     "data": {
      "text/plain": [
       "2016"
      ]
     },
     "execution_count": 23,
     "metadata": {},
     "output_type": "execute_result"
    }
   ],
   "source": [
    "data['year'].max()"
   ]
  },
  {
   "cell_type": "code",
   "execution_count": 24,
   "metadata": {},
   "outputs": [
    {
     "data": {
      "text/plain": [
       "1980"
      ]
     },
     "execution_count": 24,
     "metadata": {},
     "output_type": "execute_result"
    }
   ],
   "source": [
    "data[data['year'] > 1970]['year'].min()"
   ]
  },
  {
   "cell_type": "code",
   "execution_count": 25,
   "metadata": {},
   "outputs": [
    {
     "data": {
      "text/plain": [
       "Text(0, 0.5, 'Кол-во игр')"
      ]
     },
     "execution_count": 25,
     "metadata": {},
     "output_type": "execute_result"
    },
    {
     "data": {
      "image/png": "[encoded data removed]",
      "text/plain": [
       "<Figure size 720x720 with 1 Axes>"
      ]
     },
     "metadata": {
      "needs_background": "light"
     },
     "output_type": "display_data"
    }
   ],
   "source": [
    "data['year'].hist(bins = 50, range=(1980, 2016),figsize=(10,10))\n",
    "plt.title('Распределение игр')\n",
    "plt.xlabel('Год')\n",
    "plt.ylabel('Кол-во игр')"
   ]
  },
  {
   "cell_type": "code",
   "execution_count": 26,
   "metadata": {},
   "outputs": [
    {
     "data": {
      "text/plain": [
       "Text(0, 0.5, 'Кол-во игр')"
      ]
     },
     "execution_count": 26,
     "metadata": {},
     "output_type": "execute_result"
    },
    {
     "data": {
      "image/png": "[encoded data removed]",
      "text/plain": [
       "<Figure size 720x720 with 1 Axes>"
      ]
     },
     "metadata": {
      "needs_background": "light"
     },
     "output_type": "display_data"
    }
   ],
   "source": [
    "data['year'].hist(bins = 30, range=(2000, 2012),figsize=(10,10))\n",
    "plt.title('Распределение игр')\n",
    "plt.xlabel('Год')\n",
    "plt.ylabel('Кол-во игр')"
   ]
  },
  {
   "cell_type": "markdown",
   "metadata": {},
   "source": [
    "На мой взгляд есть рост начиная 2005 годом и заканчивая 2012"
   ]
  },
  {
   "cell_type": "code",
   "execution_count": 27,
   "metadata": {},
   "outputs": [
    {
     "data": {
      "text/html": [
       "<div>\n",
       "<style scoped>\n",
       "    .dataframe tbody tr th:only-of-type {\n",
       "        vertical-align: middle;\n",
       "    }\n",
       "\n",
       "    .dataframe tbody tr th {\n",
       "        vertical-align: top;\n",
       "    }\n",
       "\n",
       "    .dataframe thead th {\n",
       "        text-align: right;\n",
       "    }\n",
       "</style>\n",
       "<table border=\"1\" class=\"dataframe\">\n",
       "  <thead>\n",
       "    <tr style=\"text-align: right;\">\n",
       "      <th></th>\n",
       "      <th>total_sales</th>\n",
       "    </tr>\n",
       "    <tr>\n",
       "      <th>platform</th>\n",
       "      <th></th>\n",
       "    </tr>\n",
       "  </thead>\n",
       "  <tbody>\n",
       "    <tr>\n",
       "      <th>PS2</th>\n",
       "      <td>1255.77</td>\n",
       "    </tr>\n",
       "    <tr>\n",
       "      <th>X360</th>\n",
       "      <td>971.42</td>\n",
       "    </tr>\n",
       "    <tr>\n",
       "      <th>PS3</th>\n",
       "      <td>939.64</td>\n",
       "    </tr>\n",
       "    <tr>\n",
       "      <th>Wii</th>\n",
       "      <td>907.51</td>\n",
       "    </tr>\n",
       "    <tr>\n",
       "      <th>DS</th>\n",
       "      <td>806.12</td>\n",
       "    </tr>\n",
       "    <tr>\n",
       "      <th>PS</th>\n",
       "      <td>730.86</td>\n",
       "    </tr>\n",
       "    <tr>\n",
       "      <th>GBA</th>\n",
       "      <td>317.85</td>\n",
       "    </tr>\n",
       "    <tr>\n",
       "      <th>PS4</th>\n",
       "      <td>314.14</td>\n",
       "    </tr>\n",
       "    <tr>\n",
       "      <th>PSP</th>\n",
       "      <td>294.05</td>\n",
       "    </tr>\n",
       "    <tr>\n",
       "      <th>PC</th>\n",
       "      <td>259.52</td>\n",
       "    </tr>\n",
       "    <tr>\n",
       "      <th>3DS</th>\n",
       "      <td>259.00</td>\n",
       "    </tr>\n",
       "    <tr>\n",
       "      <th>XB</th>\n",
       "      <td>257.74</td>\n",
       "    </tr>\n",
       "    <tr>\n",
       "      <th>GB</th>\n",
       "      <td>255.46</td>\n",
       "    </tr>\n",
       "    <tr>\n",
       "      <th>NES</th>\n",
       "      <td>251.05</td>\n",
       "    </tr>\n",
       "    <tr>\n",
       "      <th>N64</th>\n",
       "      <td>218.68</td>\n",
       "    </tr>\n",
       "    <tr>\n",
       "      <th>SNES</th>\n",
       "      <td>200.04</td>\n",
       "    </tr>\n",
       "    <tr>\n",
       "      <th>GC</th>\n",
       "      <td>198.93</td>\n",
       "    </tr>\n",
       "    <tr>\n",
       "      <th>XOne</th>\n",
       "      <td>159.32</td>\n",
       "    </tr>\n",
       "    <tr>\n",
       "      <th>2600</th>\n",
       "      <td>96.98</td>\n",
       "    </tr>\n",
       "    <tr>\n",
       "      <th>WiiU</th>\n",
       "      <td>82.19</td>\n",
       "    </tr>\n",
       "    <tr>\n",
       "      <th>PSV</th>\n",
       "      <td>54.07</td>\n",
       "    </tr>\n",
       "    <tr>\n",
       "      <th>SAT</th>\n",
       "      <td>33.59</td>\n",
       "    </tr>\n",
       "    <tr>\n",
       "      <th>GEN</th>\n",
       "      <td>28.35</td>\n",
       "    </tr>\n",
       "    <tr>\n",
       "      <th>DC</th>\n",
       "      <td>15.95</td>\n",
       "    </tr>\n",
       "    <tr>\n",
       "      <th>SCD</th>\n",
       "      <td>1.86</td>\n",
       "    </tr>\n",
       "    <tr>\n",
       "      <th>NG</th>\n",
       "      <td>1.44</td>\n",
       "    </tr>\n",
       "    <tr>\n",
       "      <th>WS</th>\n",
       "      <td>1.42</td>\n",
       "    </tr>\n",
       "    <tr>\n",
       "      <th>TG16</th>\n",
       "      <td>0.16</td>\n",
       "    </tr>\n",
       "    <tr>\n",
       "      <th>3DO</th>\n",
       "      <td>0.10</td>\n",
       "    </tr>\n",
       "    <tr>\n",
       "      <th>GG</th>\n",
       "      <td>0.04</td>\n",
       "    </tr>\n",
       "    <tr>\n",
       "      <th>PCFX</th>\n",
       "      <td>0.03</td>\n",
       "    </tr>\n",
       "  </tbody>\n",
       "</table>\n",
       "</div>"
      ],
      "text/plain": [
       "          total_sales\n",
       "platform             \n",
       "PS2           1255.77\n",
       "X360           971.42\n",
       "PS3            939.64\n",
       "Wii            907.51\n",
       "DS             806.12\n",
       "PS             730.86\n",
       "GBA            317.85\n",
       "PS4            314.14\n",
       "PSP            294.05\n",
       "PC             259.52\n",
       "3DS            259.00\n",
       "XB             257.74\n",
       "GB             255.46\n",
       "NES            251.05\n",
       "N64            218.68\n",
       "SNES           200.04\n",
       "GC             198.93\n",
       "XOne           159.32\n",
       "2600            96.98\n",
       "WiiU            82.19\n",
       "PSV             54.07\n",
       "SAT             33.59\n",
       "GEN             28.35\n",
       "DC              15.95\n",
       "SCD              1.86\n",
       "NG               1.44\n",
       "WS               1.42\n",
       "TG16             0.16\n",
       "3DO              0.10\n",
       "GG               0.04\n",
       "PCFX             0.03"
      ]
     },
     "execution_count": 27,
     "metadata": {},
     "output_type": "execute_result"
    }
   ],
   "source": [
    "platform_best= data.pivot_table(index = 'platform', values = 'total_sales', aggfunc = 'sum').sort_values(by = 'total_sales', ascending = False)\n",
    "top_platform = platform_best.reset_index()\n",
    "top_platforms_10 = top_platform.head(10)\n",
    "top_platform = top_platforms_10['platform'].unique()\n",
    "platform_best\n"
   ]
  },
  {
   "cell_type": "code",
   "execution_count": 28,
   "metadata": {},
   "outputs": [
    {
     "data": {
      "text/plain": [
       "Text(0, 0.5, 'Общие продажи')"
      ]
     },
     "execution_count": 28,
     "metadata": {},
     "output_type": "execute_result"
    },
    {
     "data": {
      "image/png": "[encoded data removed]",
      "text/plain": [
       "<Figure size 1440x720 with 1 Axes>"
      ]
     },
     "metadata": {
      "needs_background": "light"
     },
     "output_type": "display_data"
    }
   ],
   "source": [
    "top_platforms_10.plot(x=\"platform\", y=\"total_sales\", kind='bar', figsize=(20,10))\n",
    "plt.title('Распределение игр по платформам на основе продаж')\n",
    "plt.xlabel('Платформы')\n",
    "plt.ylabel('Общие продажи')"
   ]
  },
  {
   "cell_type": "code",
   "execution_count": 29,
   "metadata": {
    "scrolled": false
   },
   "outputs": [
    {
     "data": {
      "image/png": "[encoded data removed]",
      "text/plain": [
       "<Figure size 1080x360 with 1 Axes>"
      ]
     },
     "metadata": {
      "needs_background": "light"
     },
     "output_type": "display_data"
    },
    {
     "data": {
      "image/png": "[encoded data removed]",
      "text/plain": [
       "<Figure size 1080x360 with 1 Axes>"
      ]
     },
     "metadata": {
      "needs_background": "light"
     },
     "output_type": "display_data"
    },
    {
     "data": {
      "image/png": "[encoded data removed]",
      "text/plain": [
       "<Figure size 1080x360 with 1 Axes>"
      ]
     },
     "metadata": {
      "needs_background": "light"
     },
     "output_type": "display_data"
    },
    {
     "data": {
      "image/png": "[encoded data removed]",
      "text/plain": [
       "<Figure size 1080x360 with 1 Axes>"
      ]
     },
     "metadata": {
      "needs_background": "light"
     },
     "output_type": "display_data"
    },
    {
     "data": {
      "image/png": "[encoded data removed]",
      "text/plain": [
       "<Figure size 1080x360 with 1 Axes>"
      ]
     },
     "metadata": {
      "needs_background": "light"
     },
     "output_type": "display_data"
    },
    {
     "data": {
      "image/png": "[encoded data removed]",
      "text/plain": [
       "<Figure size 1080x360 with 1 Axes>"
      ]
     },
     "metadata": {
      "needs_background": "light"
     },
     "output_type": "display_data"
    },
    {
     "data": {
      "image/png": "[encoded data removed]",
      "text/plain": [
       "<Figure size 1080x360 with 1 Axes>"
      ]
     },
     "metadata": {
      "needs_background": "light"
     },
     "output_type": "display_data"
    },
    {
     "data": {
      "image/png": "[encoded data removed]",
      "text/plain": [
       "<Figure size 1080x360 with 1 Axes>"
      ]
     },
     "metadata": {
      "needs_background": "light"
     },
     "output_type": "display_data"
    },
    {
     "data": {
      "image/png": "[encoded data removed]",
      "text/plain": [
       "<Figure size 1080x360 with 1 Axes>"
      ]
     },
     "metadata": {
      "needs_background": "light"
     },
     "output_type": "display_data"
    },
    {
     "data": {
      "image/png": "[encoded data removed]",
      "text/plain": [
       "<Figure size 1080x360 with 1 Axes>"
      ]
     },
     "metadata": {
      "needs_background": "light"
     },
     "output_type": "display_data"
    }
   ],
   "source": [
    "for platform in top_platform:\n",
    "    data[data['platform'] == platform].pivot_table(index = 'year', values = 'total_sales', aggfunc = 'sum', dropna=True).plot(kind = 'bar', figsize=(15,5))\n",
    "    plt.title(platform)\n",
    "    plt.xlabel('Год')\n",
    "    plt.ylabel('Общие продажи')\n",
    " "
   ]
  },
  {
   "cell_type": "markdown",
   "metadata": {},
   "source": [
    "В целом на каждой платформе мы наблюдаем пики активности несколько лет ( от 4 до 8), а потом снижение интереса.\n",
    "Как мы уже заметили есть рост на многих платфвормах начиная с 2005 года."
   ]
  },
  {
   "cell_type": "code",
   "execution_count": 30,
   "metadata": {},
   "outputs": [],
   "source": [
    "moment = data[data['year'] >= 2012]"
   ]
  },
  {
   "cell_type": "code",
   "execution_count": 32,
   "metadata": {},
   "outputs": [
    {
     "data": {
      "text/plain": [
       "Text(0, 0.5, 'Общие продажи')"
      ]
     },
     "execution_count": 32,
     "metadata": {},
     "output_type": "execute_result"
    },
    {
     "data": {
      "image/png": "[encoded data removed]",
      "text/plain": [
       "<Figure size 1080x360 with 1 Axes>"
      ]
     },
     "metadata": {
      "needs_background": "light"
     },
     "output_type": "display_data"
    }
   ],
   "source": [
    "moment[moment['platform'].isin(top_platform)].pivot_table(index='year', columns='platform', values='total_sales', aggfunc='sum', dropna=True).plot(figsize=(15,5))\n",
    "plt.title('Сводный график по платформам')\n",
    "plt.xlabel('Год')\n",
    "plt.ylabel('Общие продажи')"
   ]
  },
  {
   "cell_type": "markdown",
   "metadata": {},
   "source": [
    "Продажи игр на платформах все еще падают, но игры на PS4 находятся в лучшем положении благодаря новизне консоли. Также выгодным вариантом является продажа игр для ПК, которые имеют стабильный спрос. Наибольший спад спроса наблюдается у консолей X360 и PS3, в то время как на остальных консолях отсутствует или очень низок уровень продаж.\n",
    "С потенциалом сделать прибыль: PC, PS4, XOne\n",
    "\n",
    "**Дополнение**\n",
    "Перспективной платформой можно выделить: PS4\n",
    "Несмотря на то, что у ПК не особо большие продажи она демонстрирует стабильность\n",
    "Судя по графику можно видеть отрицательный тренд почти на всем рынке видеоигр.\n",
    "К 2016 году упал продажи у некогда очень продаваемых платформ: PS3,X360, Wii\n",
    "PC изначально не демонстрировал больших продаж, но все равно заметно снижение"
   ]
  },
  {
   "cell_type": "code",
   "execution_count": 33,
   "metadata": {},
   "outputs": [
    {
     "data": {
      "text/plain": [
       "<AxesSubplot:>"
      ]
     },
     "execution_count": 33,
     "metadata": {},
     "output_type": "execute_result"
    },
    {
     "data": {
      "image/png": "[encoded data removed]",
      "text/plain": [
       "<Figure size 1080x360 with 1 Axes>"
      ]
     },
     "metadata": {
      "needs_background": "light"
     },
     "output_type": "display_data"
    }
   ],
   "source": [
    "moment.pivot_table(index = 'name', columns = 'platform', values = 'total_sales', aggfunc = 'sum').plot(kind='box', figsize=(15,5), ylim=(0,1.9))"
   ]
  },
  {
   "cell_type": "markdown",
   "metadata": {},
   "source": [
    "На диаграмме не учитывалась популярность консоли XOne, которая только начала набирать популярность. Мы не включили ее в предыдущую диаграмму из-за недостатка игр, но продажи игр на эту консоль очень высоки, так как медианные значения PS4 и XOne почти идентичны. Поэтому мы добавляем XOne в список потенциально прибыльных консолей.\n",
    "У нас есть много пропусков в данных, которые мы хотим коллерировать, поэтому возьмем одну из популярных консолей, у которой нет данных в 2016. Это PSP"
   ]
  },
  {
   "cell_type": "code",
   "execution_count": 34,
   "metadata": {},
   "outputs": [
    {
     "data": {
      "text/plain": [
       "<AxesSubplot:xlabel='user_score', ylabel='critic_score'>"
      ]
     },
     "execution_count": 34,
     "metadata": {},
     "output_type": "execute_result"
    },
    {
     "data": {
      "image/png": "[encoded data removed]",
      "text/plain": [
       "<Figure size 432x288 with 1 Axes>"
      ]
     },
     "metadata": {
      "needs_background": "light"
     },
     "output_type": "display_data"
    }
   ],
   "source": [
    "PSP = moment.query('platform == \"PSP\"')\n",
    "PSP.plot(x='user_score', y='critic_score', kind='scatter')"
   ]
  },
  {
   "cell_type": "code",
   "execution_count": 35,
   "metadata": {},
   "outputs": [],
   "source": [
    "XOne = moment.query('platform == \"XOne\"')\n",
    "PS4 = moment.query('platform == \"PS4\"')\n",
    "PC = moment.query('platform == \"PC\"')"
   ]
  },
  {
   "cell_type": "code",
   "execution_count": 36,
   "metadata": {},
   "outputs": [
    {
     "data": {
      "text/html": [
       "<div>\n",
       "<style scoped>\n",
       "    .dataframe tbody tr th:only-of-type {\n",
       "        vertical-align: middle;\n",
       "    }\n",
       "\n",
       "    .dataframe tbody tr th {\n",
       "        vertical-align: top;\n",
       "    }\n",
       "\n",
       "    .dataframe thead th {\n",
       "        text-align: right;\n",
       "    }\n",
       "</style>\n",
       "<table border=\"1\" class=\"dataframe\">\n",
       "  <thead>\n",
       "    <tr style=\"text-align: right;\">\n",
       "      <th></th>\n",
       "      <th>critic_score</th>\n",
       "      <th>user_score</th>\n",
       "      <th>total_sales</th>\n",
       "    </tr>\n",
       "  </thead>\n",
       "  <tbody>\n",
       "    <tr>\n",
       "      <th>critic_score</th>\n",
       "      <td>NaN</td>\n",
       "      <td>NaN</td>\n",
       "      <td>NaN</td>\n",
       "    </tr>\n",
       "    <tr>\n",
       "      <th>user_score</th>\n",
       "      <td>NaN</td>\n",
       "      <td>1.000000</td>\n",
       "      <td>-0.802302</td>\n",
       "    </tr>\n",
       "    <tr>\n",
       "      <th>total_sales</th>\n",
       "      <td>NaN</td>\n",
       "      <td>-0.802302</td>\n",
       "      <td>1.000000</td>\n",
       "    </tr>\n",
       "  </tbody>\n",
       "</table>\n",
       "</div>"
      ],
      "text/plain": [
       "              critic_score  user_score  total_sales\n",
       "critic_score           NaN         NaN          NaN\n",
       "user_score             NaN    1.000000    -0.802302\n",
       "total_sales            NaN   -0.802302     1.000000"
      ]
     },
     "execution_count": 36,
     "metadata": {},
     "output_type": "execute_result"
    }
   ],
   "source": [
    "PSP_cor = PSP[['critic_score','user_score', 'total_sales']]\n",
    "PSP_cor.corr()"
   ]
  },
  {
   "cell_type": "code",
   "execution_count": 37,
   "metadata": {},
   "outputs": [
    {
     "data": {
      "text/html": [
       "<div>\n",
       "<style scoped>\n",
       "    .dataframe tbody tr th:only-of-type {\n",
       "        vertical-align: middle;\n",
       "    }\n",
       "\n",
       "    .dataframe tbody tr th {\n",
       "        vertical-align: top;\n",
       "    }\n",
       "\n",
       "    .dataframe thead th {\n",
       "        text-align: right;\n",
       "    }\n",
       "</style>\n",
       "<table border=\"1\" class=\"dataframe\">\n",
       "  <thead>\n",
       "    <tr style=\"text-align: right;\">\n",
       "      <th></th>\n",
       "      <th>critic_score</th>\n",
       "      <th>user_score</th>\n",
       "      <th>total_sales</th>\n",
       "    </tr>\n",
       "  </thead>\n",
       "  <tbody>\n",
       "    <tr>\n",
       "      <th>critic_score</th>\n",
       "      <td>1.000000</td>\n",
       "      <td>0.432587</td>\n",
       "      <td>0.237243</td>\n",
       "    </tr>\n",
       "    <tr>\n",
       "      <th>user_score</th>\n",
       "      <td>0.432587</td>\n",
       "      <td>1.000000</td>\n",
       "      <td>-0.121867</td>\n",
       "    </tr>\n",
       "    <tr>\n",
       "      <th>total_sales</th>\n",
       "      <td>0.237243</td>\n",
       "      <td>-0.121867</td>\n",
       "      <td>1.000000</td>\n",
       "    </tr>\n",
       "  </tbody>\n",
       "</table>\n",
       "</div>"
      ],
      "text/plain": [
       "              critic_score  user_score  total_sales\n",
       "critic_score      1.000000    0.432587     0.237243\n",
       "user_score        0.432587    1.000000    -0.121867\n",
       "total_sales       0.237243   -0.121867     1.000000"
      ]
     },
     "execution_count": 37,
     "metadata": {},
     "output_type": "execute_result"
    }
   ],
   "source": [
    "PC_cor = PC[['critic_score','user_score', 'total_sales']]\n",
    "PC_cor.corr()"
   ]
  },
  {
   "cell_type": "code",
   "execution_count": 38,
   "metadata": {},
   "outputs": [
    {
     "data": {
      "text/html": [
       "<div>\n",
       "<style scoped>\n",
       "    .dataframe tbody tr th:only-of-type {\n",
       "        vertical-align: middle;\n",
       "    }\n",
       "\n",
       "    .dataframe tbody tr th {\n",
       "        vertical-align: top;\n",
       "    }\n",
       "\n",
       "    .dataframe thead th {\n",
       "        text-align: right;\n",
       "    }\n",
       "</style>\n",
       "<table border=\"1\" class=\"dataframe\">\n",
       "  <thead>\n",
       "    <tr style=\"text-align: right;\">\n",
       "      <th></th>\n",
       "      <th>critic_score</th>\n",
       "      <th>user_score</th>\n",
       "      <th>total_sales</th>\n",
       "    </tr>\n",
       "  </thead>\n",
       "  <tbody>\n",
       "    <tr>\n",
       "      <th>critic_score</th>\n",
       "      <td>1.000000</td>\n",
       "      <td>0.557654</td>\n",
       "      <td>0.406568</td>\n",
       "    </tr>\n",
       "    <tr>\n",
       "      <th>user_score</th>\n",
       "      <td>0.557654</td>\n",
       "      <td>1.000000</td>\n",
       "      <td>-0.031957</td>\n",
       "    </tr>\n",
       "    <tr>\n",
       "      <th>total_sales</th>\n",
       "      <td>0.406568</td>\n",
       "      <td>-0.031957</td>\n",
       "      <td>1.000000</td>\n",
       "    </tr>\n",
       "  </tbody>\n",
       "</table>\n",
       "</div>"
      ],
      "text/plain": [
       "              critic_score  user_score  total_sales\n",
       "critic_score      1.000000    0.557654     0.406568\n",
       "user_score        0.557654    1.000000    -0.031957\n",
       "total_sales       0.406568   -0.031957     1.000000"
      ]
     },
     "execution_count": 38,
     "metadata": {},
     "output_type": "execute_result"
    }
   ],
   "source": [
    "PS4_cor = PS4[['critic_score','user_score', 'total_sales']]\n",
    "PS4_cor.corr()"
   ]
  },
  {
   "cell_type": "code",
   "execution_count": 39,
   "metadata": {},
   "outputs": [
    {
     "data": {
      "text/html": [
       "<div>\n",
       "<style scoped>\n",
       "    .dataframe tbody tr th:only-of-type {\n",
       "        vertical-align: middle;\n",
       "    }\n",
       "\n",
       "    .dataframe tbody tr th {\n",
       "        vertical-align: top;\n",
       "    }\n",
       "\n",
       "    .dataframe thead th {\n",
       "        text-align: right;\n",
       "    }\n",
       "</style>\n",
       "<table border=\"1\" class=\"dataframe\">\n",
       "  <thead>\n",
       "    <tr style=\"text-align: right;\">\n",
       "      <th></th>\n",
       "      <th>critic_score</th>\n",
       "      <th>user_score</th>\n",
       "      <th>total_sales</th>\n",
       "    </tr>\n",
       "  </thead>\n",
       "  <tbody>\n",
       "    <tr>\n",
       "      <th>critic_score</th>\n",
       "      <td>1.000000</td>\n",
       "      <td>0.472462</td>\n",
       "      <td>0.416998</td>\n",
       "    </tr>\n",
       "    <tr>\n",
       "      <th>user_score</th>\n",
       "      <td>0.472462</td>\n",
       "      <td>1.000000</td>\n",
       "      <td>-0.068925</td>\n",
       "    </tr>\n",
       "    <tr>\n",
       "      <th>total_sales</th>\n",
       "      <td>0.416998</td>\n",
       "      <td>-0.068925</td>\n",
       "      <td>1.000000</td>\n",
       "    </tr>\n",
       "  </tbody>\n",
       "</table>\n",
       "</div>"
      ],
      "text/plain": [
       "              critic_score  user_score  total_sales\n",
       "critic_score      1.000000    0.472462     0.416998\n",
       "user_score        0.472462    1.000000    -0.068925\n",
       "total_sales       0.416998   -0.068925     1.000000"
      ]
     },
     "execution_count": 39,
     "metadata": {},
     "output_type": "execute_result"
    }
   ],
   "source": [
    "XOne_cor = XOne[['critic_score','user_score', 'total_sales']]\n",
    "XOne_cor.corr()"
   ]
  },
  {
   "cell_type": "markdown",
   "metadata": {},
   "source": [
    "PSP - по диаграмме видно, что в целом оценки критиков с оценками пользователей совпадают. По таблице можно сказать, что игровая аудитория прислушивается не только к критикам, но и к игрокам. \n",
    "По платформам PC, PS4, XOne однозначно можно сказать, что оценки критиков влияют на количество продаж, а оценки пользователей не принимают во внимание."
   ]
  },
  {
   "cell_type": "code",
   "execution_count": 40,
   "metadata": {},
   "outputs": [],
   "source": [
    "#moment.pivot_table(index = 'name', columns = 'genre', values = 'total_sales', aggfunc = 'sum').plot(kind='box',figsize=(15,5), ylim=(0,5))"
   ]
  },
  {
   "cell_type": "code",
   "execution_count": 41,
   "metadata": {
    "scrolled": true
   },
   "outputs": [
    {
     "data": {
      "text/plain": [
       "Text(0, 0.5, 'Общие продажи')"
      ]
     },
     "execution_count": 41,
     "metadata": {},
     "output_type": "execute_result"
    },
    {
     "data": {
      "image/png": "[encoded data removed]",
      "text/plain": [
       "<Figure size 1080x360 with 1 Axes>"
      ]
     },
     "metadata": {
      "needs_background": "light"
     },
     "output_type": "display_data"
    }
   ],
   "source": [
    "moment.pivot_table(index = 'name', columns = 'genre', values = 'total_sales', aggfunc = 'sum').plot(kind='box', figsize=(15,5) ,ylim=(0,4))\n",
    "plt.title('Сводный график по жанрам')\n",
    "plt.xlabel('Жанр')\n",
    "plt.ylabel('Общие продажи')"
   ]
  },
  {
   "cell_type": "code",
   "execution_count": 42,
   "metadata": {},
   "outputs": [
    {
     "data": {
      "text/plain": [
       "<AxesSubplot:>"
      ]
     },
     "execution_count": 42,
     "metadata": {},
     "output_type": "execute_result"
    },
    {
     "data": {
      "image/png": "[encoded data removed]",
      "text/plain": [
       "<Figure size 720x360 with 1 Axes>"
      ]
     },
     "metadata": {
      "needs_background": "light"
     },
     "output_type": "display_data"
    }
   ],
   "source": [
    "moment.query(\"genre in ['Shooter', 'Sports', 'Role-Playing']\").pivot_table(index='name', columns='genre', values='total_sales', aggfunc='sum').plot(kind='box', figsize=(10,5), ylim=(0,4))"
   ]
  },
  {
   "cell_type": "markdown",
   "metadata": {},
   "source": [
    "Изучим самые популярные игровые жанры по продажам"
   ]
  },
  {
   "cell_type": "code",
   "execution_count": 44,
   "metadata": {},
   "outputs": [
    {
     "data": {
      "text/plain": [
       "array([<AxesSubplot:ylabel='total_sales'>], dtype=object)"
      ]
     },
     "execution_count": 44,
     "metadata": {},
     "output_type": "execute_result"
    },
    {
     "data": {
      "image/png": "[encoded data removed]",
      "text/plain": [
       "<Figure size 720x720 with 1 Axes>"
      ]
     },
     "metadata": {},
     "output_type": "display_data"
    }
   ],
   "source": [
    "moment.pivot_table(index = 'genre', values = 'total_sales', aggfunc = 'sum').sort_values(by = 'total_sales').plot.pie(subplots=True,figsize=(10,10))"
   ]
  },
  {
   "cell_type": "code",
   "execution_count": 45,
   "metadata": {},
   "outputs": [
    {
     "data": {
      "text/html": [
       "<div>\n",
       "<style scoped>\n",
       "    .dataframe tbody tr th:only-of-type {\n",
       "        vertical-align: middle;\n",
       "    }\n",
       "\n",
       "    .dataframe tbody tr th {\n",
       "        vertical-align: top;\n",
       "    }\n",
       "\n",
       "    .dataframe thead th {\n",
       "        text-align: right;\n",
       "    }\n",
       "</style>\n",
       "<table border=\"1\" class=\"dataframe\">\n",
       "  <thead>\n",
       "    <tr style=\"text-align: right;\">\n",
       "      <th></th>\n",
       "      <th>total_sales</th>\n",
       "    </tr>\n",
       "    <tr>\n",
       "      <th>genre</th>\n",
       "      <th></th>\n",
       "    </tr>\n",
       "  </thead>\n",
       "  <tbody>\n",
       "    <tr>\n",
       "      <th>Action</th>\n",
       "      <td>441.12</td>\n",
       "    </tr>\n",
       "    <tr>\n",
       "      <th>Shooter</th>\n",
       "      <td>304.73</td>\n",
       "    </tr>\n",
       "    <tr>\n",
       "      <th>Role-Playing</th>\n",
       "      <td>192.80</td>\n",
       "    </tr>\n",
       "    <tr>\n",
       "      <th>Sports</th>\n",
       "      <td>181.06</td>\n",
       "    </tr>\n",
       "    <tr>\n",
       "      <th>Misc</th>\n",
       "      <td>85.04</td>\n",
       "    </tr>\n",
       "    <tr>\n",
       "      <th>Platform</th>\n",
       "      <td>61.00</td>\n",
       "    </tr>\n",
       "    <tr>\n",
       "      <th>Racing</th>\n",
       "      <td>53.50</td>\n",
       "    </tr>\n",
       "    <tr>\n",
       "      <th>Fighting</th>\n",
       "      <td>44.49</td>\n",
       "    </tr>\n",
       "    <tr>\n",
       "      <th>Simulation</th>\n",
       "      <td>35.12</td>\n",
       "    </tr>\n",
       "    <tr>\n",
       "      <th>Adventure</th>\n",
       "      <td>29.43</td>\n",
       "    </tr>\n",
       "    <tr>\n",
       "      <th>Strategy</th>\n",
       "      <td>13.34</td>\n",
       "    </tr>\n",
       "    <tr>\n",
       "      <th>Puzzle</th>\n",
       "      <td>4.89</td>\n",
       "    </tr>\n",
       "  </tbody>\n",
       "</table>\n",
       "</div>"
      ],
      "text/plain": [
       "              total_sales\n",
       "genre                    \n",
       "Action             441.12\n",
       "Shooter            304.73\n",
       "Role-Playing       192.80\n",
       "Sports             181.06\n",
       "Misc                85.04\n",
       "Platform            61.00\n",
       "Racing              53.50\n",
       "Fighting            44.49\n",
       "Simulation          35.12\n",
       "Adventure           29.43\n",
       "Strategy            13.34\n",
       "Puzzle               4.89"
      ]
     },
     "execution_count": 45,
     "metadata": {},
     "output_type": "execute_result"
    }
   ],
   "source": [
    "moment.pivot_table(index = 'genre', values = 'total_sales', aggfunc = 'sum').sort_values(ascending=False, by = 'total_sales')"
   ]
  },
  {
   "cell_type": "markdown",
   "metadata": {},
   "source": [
    "Самые прибыльные жанры - Action, Sports, Shooter\n",
    "\n",
    "Наименее прибыльные жанры - Strategy, Puzzle"
   ]
  },
  {
   "cell_type": "code",
   "execution_count": 46,
   "metadata": {},
   "outputs": [
    {
     "data": {
      "text/plain": [
       "genre\n",
       "Shooter         0.440\n",
       "Sports          0.240\n",
       "Platform        0.210\n",
       "Role-Playing    0.140\n",
       "Racing          0.140\n",
       "Fighting        0.130\n",
       "Action          0.120\n",
       "Misc            0.120\n",
       "Simulation      0.120\n",
       "Strategy        0.080\n",
       "Puzzle          0.045\n",
       "Adventure       0.030\n",
       "Name: total_sales, dtype: float64"
      ]
     },
     "execution_count": 46,
     "metadata": {},
     "output_type": "execute_result"
    }
   ],
   "source": [
    "moment.groupby('genre')['total_sales'].median().sort_values(ascending=False)\n",
    "# судя по коэффициенту могу сказать, что предыдущий вывод был рядом"
   ]
  },
  {
   "cell_type": "markdown",
   "metadata": {},
   "source": [
    "Самые прибыльные жанры - Shooter, Sport, Platform  \n",
    "Наименее прибыльные жанры - Strategy, Adventure "
   ]
  },
  {
   "cell_type": "markdown",
   "metadata": {},
   "source": [
    "**Составляем портрет пользователя каждого региона**"
   ]
  },
  {
   "cell_type": "code",
   "execution_count": 47,
   "metadata": {},
   "outputs": [
    {
     "data": {
      "text/plain": [
       "Text(0, 0.5, 'Количество')"
      ]
     },
     "execution_count": 47,
     "metadata": {},
     "output_type": "execute_result"
    },
    {
     "data": {
      "image/png": "[encoded data removed]",
      "text/plain": [
       "<Figure size 1080x360 with 1 Axes>"
      ]
     },
     "metadata": {
      "needs_background": "light"
     },
     "output_type": "display_data"
    }
   ],
   "source": [
    "moment.pivot_table(index = 'platform', values = 'na', aggfunc = 'sum').sort_values(ascending=False, by = 'na').plot(kind = 'bar', figsize=(15,5))\n",
    "plt.title('Север Америка')\n",
    "plt.xlabel('Платформа')\n",
    "plt.ylabel('Количество')"
   ]
  },
  {
   "cell_type": "markdown",
   "metadata": {},
   "source": [
    "Пользователи Северной Америки больше всего предпочитают Xbox360, потому что консоль американская. Платформы Wii, PS3, DS - пользуются также значительной популярностью, но они японские. В сумме продаж преобладают игры на японских консолях."
   ]
  },
  {
   "cell_type": "code",
   "execution_count": 48,
   "metadata": {},
   "outputs": [
    {
     "data": {
      "text/plain": [
       "Text(0, 0.5, 'Количество')"
      ]
     },
     "execution_count": 48,
     "metadata": {},
     "output_type": "execute_result"
    },
    {
     "data": {
      "image/png": "[encoded data removed]",
      "text/plain": [
       "<Figure size 1080x360 with 1 Axes>"
      ]
     },
     "metadata": {
      "needs_background": "light"
     },
     "output_type": "display_data"
    }
   ],
   "source": [
    "moment.pivot_table(index = 'platform', values = 'eu', aggfunc = 'sum').sort_values(ascending=False, by = 'eu').plot(kind = 'bar', figsize=(15,5))\n",
    "plt.title('Европа')\n",
    "plt.xlabel('Платформа')\n",
    "plt.ylabel('Количество')"
   ]
  },
  {
   "cell_type": "markdown",
   "metadata": {},
   "source": [
    "У пользователей Европы популярны и японские платформы, и американская консоль Xbox360. В целом запросы такие же как у пользователей из Северной Америки."
   ]
  },
  {
   "cell_type": "code",
   "execution_count": 49,
   "metadata": {},
   "outputs": [
    {
     "data": {
      "text/plain": [
       "Text(0, 0.5, 'Количество')"
      ]
     },
     "execution_count": 49,
     "metadata": {},
     "output_type": "execute_result"
    },
    {
     "data": {
      "image/png": "[encoded data removed]",
      "text/plain": [
       "<Figure size 1080x360 with 1 Axes>"
      ]
     },
     "metadata": {
      "needs_background": "light"
     },
     "output_type": "display_data"
    }
   ],
   "source": [
    "moment.pivot_table(index = 'platform', values = 'jp', aggfunc = 'sum').sort_values(ascending=False, by = 'jp').plot(kind = 'bar', figsize=(15,5))\n",
    "plt.title('Япония')\n",
    "plt.xlabel('Платформа')\n",
    "plt.ylabel('Количество')"
   ]
  },
  {
   "cell_type": "markdown",
   "metadata": {},
   "source": [
    "Подавляющее большинство японских пользователей играют в японские платформы, что неудивительно из-за большого разнообразия платформ\n",
    "Можно сделать общий вывод, что пользователи предпочитают играть на платформах своей же страны"
   ]
  },
  {
   "cell_type": "code",
   "execution_count": 50,
   "metadata": {},
   "outputs": [
    {
     "data": {
      "text/html": [
       "<div>\n",
       "<style scoped>\n",
       "    .dataframe tbody tr th:only-of-type {\n",
       "        vertical-align: middle;\n",
       "    }\n",
       "\n",
       "    .dataframe tbody tr th {\n",
       "        vertical-align: top;\n",
       "    }\n",
       "\n",
       "    .dataframe thead th {\n",
       "        text-align: right;\n",
       "    }\n",
       "</style>\n",
       "<table border=\"1\" class=\"dataframe\">\n",
       "  <thead>\n",
       "    <tr style=\"text-align: right;\">\n",
       "      <th></th>\n",
       "      <th>na</th>\n",
       "    </tr>\n",
       "    <tr>\n",
       "      <th>genre</th>\n",
       "      <th></th>\n",
       "    </tr>\n",
       "  </thead>\n",
       "  <tbody>\n",
       "    <tr>\n",
       "      <th>Action</th>\n",
       "      <td>177.84</td>\n",
       "    </tr>\n",
       "    <tr>\n",
       "      <th>Shooter</th>\n",
       "      <td>144.77</td>\n",
       "    </tr>\n",
       "    <tr>\n",
       "      <th>Sports</th>\n",
       "      <td>81.53</td>\n",
       "    </tr>\n",
       "    <tr>\n",
       "      <th>Role-Playing</th>\n",
       "      <td>64.00</td>\n",
       "    </tr>\n",
       "    <tr>\n",
       "      <th>Misc</th>\n",
       "      <td>38.19</td>\n",
       "    </tr>\n",
       "    <tr>\n",
       "      <th>Platform</th>\n",
       "      <td>25.38</td>\n",
       "    </tr>\n",
       "    <tr>\n",
       "      <th>Fighting</th>\n",
       "      <td>19.79</td>\n",
       "    </tr>\n",
       "    <tr>\n",
       "      <th>Racing</th>\n",
       "      <td>17.22</td>\n",
       "    </tr>\n",
       "    <tr>\n",
       "      <th>Adventure</th>\n",
       "      <td>8.92</td>\n",
       "    </tr>\n",
       "    <tr>\n",
       "      <th>Simulation</th>\n",
       "      <td>7.97</td>\n",
       "    </tr>\n",
       "    <tr>\n",
       "      <th>Strategy</th>\n",
       "      <td>4.23</td>\n",
       "    </tr>\n",
       "    <tr>\n",
       "      <th>Puzzle</th>\n",
       "      <td>1.13</td>\n",
       "    </tr>\n",
       "  </tbody>\n",
       "</table>\n",
       "</div>"
      ],
      "text/plain": [
       "                  na\n",
       "genre               \n",
       "Action        177.84\n",
       "Shooter       144.77\n",
       "Sports         81.53\n",
       "Role-Playing   64.00\n",
       "Misc           38.19\n",
       "Platform       25.38\n",
       "Fighting       19.79\n",
       "Racing         17.22\n",
       "Adventure       8.92\n",
       "Simulation      7.97\n",
       "Strategy        4.23\n",
       "Puzzle          1.13"
      ]
     },
     "execution_count": 50,
     "metadata": {},
     "output_type": "execute_result"
    }
   ],
   "source": [
    "moment.pivot_table(index = 'genre', values = 'na', aggfunc = 'sum').sort_values(ascending=False, by = 'na')"
   ]
  },
  {
   "cell_type": "code",
   "execution_count": 51,
   "metadata": {},
   "outputs": [
    {
     "data": {
      "text/html": [
       "<div>\n",
       "<style scoped>\n",
       "    .dataframe tbody tr th:only-of-type {\n",
       "        vertical-align: middle;\n",
       "    }\n",
       "\n",
       "    .dataframe tbody tr th {\n",
       "        vertical-align: top;\n",
       "    }\n",
       "\n",
       "    .dataframe thead th {\n",
       "        text-align: right;\n",
       "    }\n",
       "</style>\n",
       "<table border=\"1\" class=\"dataframe\">\n",
       "  <thead>\n",
       "    <tr style=\"text-align: right;\">\n",
       "      <th></th>\n",
       "      <th>eu</th>\n",
       "    </tr>\n",
       "    <tr>\n",
       "      <th>genre</th>\n",
       "      <th></th>\n",
       "    </tr>\n",
       "  </thead>\n",
       "  <tbody>\n",
       "    <tr>\n",
       "      <th>Action</th>\n",
       "      <td>159.34</td>\n",
       "    </tr>\n",
       "    <tr>\n",
       "      <th>Shooter</th>\n",
       "      <td>113.47</td>\n",
       "    </tr>\n",
       "    <tr>\n",
       "      <th>Sports</th>\n",
       "      <td>69.08</td>\n",
       "    </tr>\n",
       "    <tr>\n",
       "      <th>Role-Playing</th>\n",
       "      <td>48.53</td>\n",
       "    </tr>\n",
       "    <tr>\n",
       "      <th>Racing</th>\n",
       "      <td>27.29</td>\n",
       "    </tr>\n",
       "    <tr>\n",
       "      <th>Misc</th>\n",
       "      <td>26.32</td>\n",
       "    </tr>\n",
       "    <tr>\n",
       "      <th>Platform</th>\n",
       "      <td>21.41</td>\n",
       "    </tr>\n",
       "    <tr>\n",
       "      <th>Simulation</th>\n",
       "      <td>14.55</td>\n",
       "    </tr>\n",
       "    <tr>\n",
       "      <th>Fighting</th>\n",
       "      <td>10.79</td>\n",
       "    </tr>\n",
       "    <tr>\n",
       "      <th>Adventure</th>\n",
       "      <td>9.46</td>\n",
       "    </tr>\n",
       "    <tr>\n",
       "      <th>Strategy</th>\n",
       "      <td>5.17</td>\n",
       "    </tr>\n",
       "    <tr>\n",
       "      <th>Puzzle</th>\n",
       "      <td>1.40</td>\n",
       "    </tr>\n",
       "  </tbody>\n",
       "</table>\n",
       "</div>"
      ],
      "text/plain": [
       "                  eu\n",
       "genre               \n",
       "Action        159.34\n",
       "Shooter       113.47\n",
       "Sports         69.08\n",
       "Role-Playing   48.53\n",
       "Racing         27.29\n",
       "Misc           26.32\n",
       "Platform       21.41\n",
       "Simulation     14.55\n",
       "Fighting       10.79\n",
       "Adventure       9.46\n",
       "Strategy        5.17\n",
       "Puzzle          1.40"
      ]
     },
     "execution_count": 51,
     "metadata": {},
     "output_type": "execute_result"
    }
   ],
   "source": [
    "moment.pivot_table(index = 'genre', values = 'eu', aggfunc = 'sum').sort_values(ascending=False, by = 'eu')"
   ]
  },
  {
   "cell_type": "code",
   "execution_count": 52,
   "metadata": {},
   "outputs": [
    {
     "data": {
      "text/html": [
       "<div>\n",
       "<style scoped>\n",
       "    .dataframe tbody tr th:only-of-type {\n",
       "        vertical-align: middle;\n",
       "    }\n",
       "\n",
       "    .dataframe tbody tr th {\n",
       "        vertical-align: top;\n",
       "    }\n",
       "\n",
       "    .dataframe thead th {\n",
       "        text-align: right;\n",
       "    }\n",
       "</style>\n",
       "<table border=\"1\" class=\"dataframe\">\n",
       "  <thead>\n",
       "    <tr style=\"text-align: right;\">\n",
       "      <th></th>\n",
       "      <th>jp</th>\n",
       "    </tr>\n",
       "    <tr>\n",
       "      <th>genre</th>\n",
       "      <th></th>\n",
       "    </tr>\n",
       "  </thead>\n",
       "  <tbody>\n",
       "    <tr>\n",
       "      <th>Role-Playing</th>\n",
       "      <td>65.44</td>\n",
       "    </tr>\n",
       "    <tr>\n",
       "      <th>Action</th>\n",
       "      <td>52.80</td>\n",
       "    </tr>\n",
       "    <tr>\n",
       "      <th>Misc</th>\n",
       "      <td>12.86</td>\n",
       "    </tr>\n",
       "    <tr>\n",
       "      <th>Simulation</th>\n",
       "      <td>10.41</td>\n",
       "    </tr>\n",
       "    <tr>\n",
       "      <th>Fighting</th>\n",
       "      <td>9.44</td>\n",
       "    </tr>\n",
       "    <tr>\n",
       "      <th>Shooter</th>\n",
       "      <td>9.23</td>\n",
       "    </tr>\n",
       "    <tr>\n",
       "      <th>Platform</th>\n",
       "      <td>8.63</td>\n",
       "    </tr>\n",
       "    <tr>\n",
       "      <th>Adventure</th>\n",
       "      <td>8.24</td>\n",
       "    </tr>\n",
       "    <tr>\n",
       "      <th>Sports</th>\n",
       "      <td>8.01</td>\n",
       "    </tr>\n",
       "    <tr>\n",
       "      <th>Strategy</th>\n",
       "      <td>2.88</td>\n",
       "    </tr>\n",
       "    <tr>\n",
       "      <th>Racing</th>\n",
       "      <td>2.50</td>\n",
       "    </tr>\n",
       "    <tr>\n",
       "      <th>Puzzle</th>\n",
       "      <td>2.14</td>\n",
       "    </tr>\n",
       "  </tbody>\n",
       "</table>\n",
       "</div>"
      ],
      "text/plain": [
       "                 jp\n",
       "genre              \n",
       "Role-Playing  65.44\n",
       "Action        52.80\n",
       "Misc          12.86\n",
       "Simulation    10.41\n",
       "Fighting       9.44\n",
       "Shooter        9.23\n",
       "Platform       8.63\n",
       "Adventure      8.24\n",
       "Sports         8.01\n",
       "Strategy       2.88\n",
       "Racing         2.50\n",
       "Puzzle         2.14"
      ]
     },
     "execution_count": 52,
     "metadata": {},
     "output_type": "execute_result"
    }
   ],
   "source": [
    "moment.pivot_table(index = 'genre', values = 'jp', aggfunc = 'sum').sort_values(ascending=False, by = 'jp')"
   ]
  },
  {
   "cell_type": "markdown",
   "metadata": {},
   "source": [
    "Консоли, популярные среди пользователей Европы и Северной Америки, также пользуются спросом в Японии, но там более распространены портативные консоли, которые позволяют играть не только дома. В связи с этим, японские игроки предпочитают игры жанра Role-Playing, в то время как игры жанра Shooter у них редко встречаются."
   ]
  },
  {
   "cell_type": "code",
   "execution_count": 53,
   "metadata": {},
   "outputs": [
    {
     "name": "stderr",
     "output_type": "stream",
     "text": [
      "/opt/conda/lib/python3.9/site-packages/pandas/core/indexing.py:1597: SettingWithCopyWarning: \n",
      "A value is trying to be set on a copy of a slice from a DataFrame.\n",
      "Try using .loc[row_indexer,col_indexer] = value instead\n",
      "\n",
      "See the caveats in the documentation: https://pandas.pydata.org/pandas-docs/stable/user_guide/indexing.html#returning-a-view-versus-a-copy\n",
      "  self.obj[key] = value\n",
      "/opt/conda/lib/python3.9/site-packages/pandas/core/indexing.py:1676: SettingWithCopyWarning: \n",
      "A value is trying to be set on a copy of a slice from a DataFrame.\n",
      "Try using .loc[row_indexer,col_indexer] = value instead\n",
      "\n",
      "See the caveats in the documentation: https://pandas.pydata.org/pandas-docs/stable/user_guide/indexing.html#returning-a-view-versus-a-copy\n",
      "  self._setitem_single_column(ilocs[0], value, pi)\n"
     ]
    },
    {
     "data": {
      "text/plain": [
       "16       17.09\n",
       "23       14.86\n",
       "31       12.25\n",
       "33       13.82\n",
       "34       11.37\n",
       "         ...  \n",
       "16700     0.01\n",
       "16704     0.01\n",
       "16707     0.01\n",
       "16709     0.01\n",
       "16711     0.01\n",
       "Name: region, Length: 2885, dtype: float64"
      ]
     },
     "execution_count": 53,
     "metadata": {},
     "output_type": "execute_result"
    }
   ],
   "source": [
    "moment.loc[:, 'region'] = moment['eu'] + moment['jp'] + moment['na']\n",
    "moment['region']"
   ]
  },
  {
   "cell_type": "code",
   "execution_count": 54,
   "metadata": {},
   "outputs": [
    {
     "data": {
      "text/html": [
       "<div>\n",
       "<style scoped>\n",
       "    .dataframe tbody tr th:only-of-type {\n",
       "        vertical-align: middle;\n",
       "    }\n",
       "\n",
       "    .dataframe tbody tr th {\n",
       "        vertical-align: top;\n",
       "    }\n",
       "\n",
       "    .dataframe thead th {\n",
       "        text-align: right;\n",
       "    }\n",
       "</style>\n",
       "<table border=\"1\" class=\"dataframe\">\n",
       "  <thead>\n",
       "    <tr style=\"text-align: right;\">\n",
       "      <th></th>\n",
       "      <th>eu</th>\n",
       "      <th>jp</th>\n",
       "      <th>na</th>\n",
       "    </tr>\n",
       "    <tr>\n",
       "      <th>rating</th>\n",
       "      <th></th>\n",
       "      <th></th>\n",
       "      <th></th>\n",
       "    </tr>\n",
       "  </thead>\n",
       "  <tbody>\n",
       "    <tr>\n",
       "      <th>E</th>\n",
       "      <td>113.02</td>\n",
       "      <td>28.33</td>\n",
       "      <td>114.37</td>\n",
       "    </tr>\n",
       "    <tr>\n",
       "      <th>E10+</th>\n",
       "      <td>55.37</td>\n",
       "      <td>8.19</td>\n",
       "      <td>75.70</td>\n",
       "    </tr>\n",
       "    <tr>\n",
       "      <th>M</th>\n",
       "      <td>193.96</td>\n",
       "      <td>21.20</td>\n",
       "      <td>231.57</td>\n",
       "    </tr>\n",
       "    <tr>\n",
       "      <th>T</th>\n",
       "      <td>52.96</td>\n",
       "      <td>26.02</td>\n",
       "      <td>66.02</td>\n",
       "    </tr>\n",
       "  </tbody>\n",
       "</table>\n",
       "</div>"
      ],
      "text/plain": [
       "            eu     jp      na\n",
       "rating                       \n",
       "E       113.02  28.33  114.37\n",
       "E10+     55.37   8.19   75.70\n",
       "M       193.96  21.20  231.57\n",
       "T        52.96  26.02   66.02"
      ]
     },
     "execution_count": 54,
     "metadata": {},
     "output_type": "execute_result"
    }
   ],
   "source": [
    "rate = moment.pivot_table(index = 'rating', values = ['eu','jp','na'], aggfunc = 'sum')\n",
    "rate"
   ]
  },
  {
   "cell_type": "markdown",
   "metadata": {},
   "source": [
    "Рейтинг влияет на продажи в отдельных регионах. Так, например, игры с рейтингом EC продавались в основном только в Северной Америке"
   ]
  },
  {
   "cell_type": "markdown",
   "metadata": {},
   "source": [
    "**Проверяем гипотезы**"
   ]
  },
  {
   "cell_type": "markdown",
   "metadata": {},
   "source": [
    "Для проверки обеих гипотез будем использовать t-критерий Стьюдента, т.к. в обоих случаях выборки независимы между собой.\n",
    "\n",
    "-Определим пороговое значение alpha = 0.05"
   ]
  },
  {
   "cell_type": "markdown",
   "metadata": {},
   "source": [
    "1 гипотеза: Средние пользовательские рейтинги платформ Xbox One и PC одинаковые;\n",
    "\n",
    "2 гипотеза: Средние пользовательские рейтинги жанров Action (англ. «действие», экшен-игры) и Sports (англ. «спортивные соревнования») разные."
   ]
  },
  {
   "cell_type": "code",
   "execution_count": 56,
   "metadata": {},
   "outputs": [
    {
     "name": "stdout",
     "output_type": "stream",
     "text": [
      "Средний пользовательский рейтинг платформы Xbox One: 6.521428571428572\n",
      "Средний пользовательский рейтинг платформы PC 6.4286407766990274\n"
     ]
    }
   ],
   "source": [
    "XOne = moment[(moment['platform'] == 'XOne') &  (moment['user_score'] > 0)]['user_score']\n",
    "PC = moment[(moment['platform'] == 'PC') &  (moment['user_score'] > 0)]['user_score']\n",
    "print('Средний пользовательский рейтинг платформы Xbox One:', XOne.mean())\n",
    "print('Средний пользовательский рейтинг платформы PC', PC.mean())"
   ]
  },
  {
   "cell_type": "markdown",
   "metadata": {},
   "source": [
    "1: Средние пользовательские рейтинги платформ Xbox One и PC одинаковые\n",
    "2 : Средние пользовательские рейтинги платформ Xbox One и PC разные    "
   ]
  },
  {
   "cell_type": "code",
   "execution_count": 57,
   "metadata": {},
   "outputs": [
    {
     "name": "stdout",
     "output_type": "stream",
     "text": [
      "p-значение: 0.5489537965134912\n",
      "Не получилось отвергнуть нулевую гипотезу\n"
     ]
    }
   ],
   "source": [
    "#проверяем первую гипотезу\n",
    "\n",
    "alpha = .05\n",
    "\n",
    "results = st.ttest_ind(XOne, PC, equal_var=False)\n",
    "\n",
    "print('p-значение:', results.pvalue)\n",
    "\n",
    "\n",
    "if (results.pvalue < alpha):\n",
    "    print(\"Отвергаем нулевую гипотезу\")\n",
    "else:\n",
    "    print(\"Не получилось отвергнуть нулевую гипотезу\")"
   ]
  },
  {
   "cell_type": "markdown",
   "metadata": {},
   "source": [
    "1 гипотеза не подтвердилась. Средние пользовательские рейтинги платформ Xbox One и PC разные\n",
    "H0: Средние пользовательские рейтинги жанров Action (англ. «действие», экшен-игры) и Sports (англ. «спортивные соревнования») одинаковые\n",
    "\n",
    "H1: Средние пользовательские рейтинги жанров Action (англ. «действие», экшен-игры) и Sports (англ. «спортивные соревнования») разные"
   ]
  },
  {
   "cell_type": "code",
   "execution_count": 58,
   "metadata": {},
   "outputs": [
    {
     "name": "stdout",
     "output_type": "stream",
     "text": [
      "Средний пользовательский рейтинг жанра Action: 6.825047801147227\n",
      "Средний пользовательский рейтинг жанра Sports 5.455670103092784\n"
     ]
    }
   ],
   "source": [
    "Action = moment[(moment['genre'] == 'Action') &  (moment['user_score'] > 0)]['user_score']\n",
    "Sports = moment[(moment['genre'] == 'Sports') &  (moment['user_score'] > 0)]['user_score']\n",
    "print('Средний пользовательский рейтинг жанра Action:', Action.mean())\n",
    "print('Средний пользовательский рейтинг жанра Sports', Sports.mean())"
   ]
  },
  {
   "cell_type": "code",
   "execution_count": 59,
   "metadata": {},
   "outputs": [
    {
     "name": "stdout",
     "output_type": "stream",
     "text": [
      "p-значение: 5.989458066467418e-20\n",
      "Отвергаем нулевую гипотезу\n"
     ]
    }
   ],
   "source": [
    "#проверяем вторую гипотезу\n",
    "\n",
    "alpha = .05\n",
    "\n",
    "results = st.ttest_ind(Action, Sports, equal_var=False)\n",
    "\n",
    "print('p-значение:', results.pvalue)\n",
    "\n",
    "\n",
    "if (results.pvalue < alpha):\n",
    "    print(\"Отвергаем нулевую гипотезу\")\n",
    "else:\n",
    "    print(\"Не получилось отвергнуть нулевую гипотезу\")"
   ]
  },
  {
   "cell_type": "markdown",
   "metadata": {},
   "source": [
    "2 гипотеза подтвердилась. Средние пользовательские рейтинги жанров Action и Sports разные"
   ]
  },
  {
   "cell_type": "markdown",
   "metadata": {},
   "source": [
    "**Общий вывод**"
   ]
  },
  {
   "cell_type": "markdown",
   "metadata": {},
   "source": [
    "Шаг 1. Изучение и подготовка данных\n",
    "\n",
    "Ознакомились с данными, посмотрели на общую информацию о датасете, выявили пропуски и не соответствие типов данных.\n",
    "На данном шаге мы заполнили некоторые пропуски\n",
    "Многие пропуски, например в столбцах оценок мы оставили незаполненными, чтобы не исказить статистику.\n",
    "Также на данном этапе мы посчитали общее количество продаж по всем регионам и записали результат\n",
    "\n",
    "Шаг 2. Исследовательский анализ данных\n",
    "Было обнаружено, что рост выпуска игр приходится на 1994 год, а пик на 2008-2009 гг.\n",
    "Характерный срок жизни платформы - 10 лет, поэтому оставим данные с 2013 по 2016 гг.\n",
    "3 потенциально прибыльных платформ - PS4, XOne, 3DS.\n",
    "Наибольшие медианные продажи у платформ X360 и PS3.\n",
    "Почти у всех платформ есть определенные игры, которые \"выстрелили\".\n",
    "Компьютерные игры PC стоят дешевле консольных.\n",
    "Больше всего игр жанра Action, затем идут Sports, misc и adventure.\n",
    "Лучше всего покупают игры жанра Action, Sports идёт на втором месте, Shooter неожиданно стоит на третьем месте по продажам, но при этом самый выгодный.\n",
    "Adventure сильно отстаёт по продажам, хотя игр выпускается много.\n",
    "\n",
    "Шаг 3. Портрет пользователя региона\n",
    "В NA самая популярная платформа X360. Европейцы предпочитают PS3. В Японии популярны DS.\n",
    "В NA и EU самые популярные жанры практически совпадают. В JP вкусы отличаются.\n",
    "Во всех регионах лидируют игры с рейтингом E - \"Для всех\". В Европе и Северной Амереке дальше идут по \"старшенству\". В Японии опять не так. Первое место такое же - \"Для всех\", а вот на втором - игры для лиц от 13 лет, далее 17+.\n",
    "\n",
    "Шаг 4. Проверка гипотез\n",
    "Средние пользовательские рейтинги платформ Xbox One и PC одинаковые. Гипотеза не подтвердилась.\n",
    "Средние пользовательские рейтинги жанров Action и Sports разные. Гипотеза подтвердилась"
   ]
  }
 ],
 "metadata": {
  "ExecuteTimeLog": [
   {
    "duration": 1098,
    "start_time": "2023-04-03T14:44:22.920Z"
   },
   {
    "duration": 140,
    "start_time": "2023-04-03T14:45:05.516Z"
   },
   {
    "duration": 101,
    "start_time": "2023-04-03T14:47:06.518Z"
   },
   {
    "duration": 9,
    "start_time": "2023-04-03T14:47:21.139Z"
   },
   {
    "duration": 19,
    "start_time": "2023-04-03T14:47:27.214Z"
   },
   {
    "duration": 15,
    "start_time": "2023-04-03T14:47:49.326Z"
   },
   {
    "duration": 16,
    "start_time": "2023-04-03T15:07:24.950Z"
   },
   {
    "duration": 5,
    "start_time": "2023-04-03T17:21:02.581Z"
   },
   {
    "duration": 19,
    "start_time": "2023-04-03T17:24:34.550Z"
   },
   {
    "duration": 16,
    "start_time": "2023-04-03T17:31:54.907Z"
   },
   {
    "duration": 14,
    "start_time": "2023-04-03T17:32:23.367Z"
   },
   {
    "duration": 8,
    "start_time": "2023-04-03T17:38:25.686Z"
   },
   {
    "duration": 12,
    "start_time": "2023-04-03T17:49:02.643Z"
   },
   {
    "duration": 9,
    "start_time": "2023-04-03T17:49:12.992Z"
   },
   {
    "duration": 9,
    "start_time": "2023-04-03T17:49:16.426Z"
   },
   {
    "duration": 14,
    "start_time": "2023-04-03T17:49:34.051Z"
   },
   {
    "duration": 11,
    "start_time": "2023-04-03T17:50:10.238Z"
   },
   {
    "duration": 17,
    "start_time": "2023-04-03T17:50:12.732Z"
   },
   {
    "duration": 21,
    "start_time": "2023-04-03T17:55:36.109Z"
   },
   {
    "duration": 18,
    "start_time": "2023-04-03T17:55:56.269Z"
   },
   {
    "duration": 15,
    "start_time": "2023-04-03T17:56:04.504Z"
   },
   {
    "duration": 14,
    "start_time": "2023-04-03T18:04:03.618Z"
   },
   {
    "duration": 16,
    "start_time": "2023-04-03T18:43:15.549Z"
   },
   {
    "duration": 3,
    "start_time": "2023-04-03T18:51:23.660Z"
   },
   {
    "duration": 15,
    "start_time": "2023-04-03T18:51:28.341Z"
   },
   {
    "duration": 16,
    "start_time": "2023-04-03T18:51:39.006Z"
   },
   {
    "duration": 4,
    "start_time": "2023-04-03T18:51:49.160Z"
   },
   {
    "duration": 16,
    "start_time": "2023-04-03T18:51:56.647Z"
   },
   {
    "duration": 1134,
    "start_time": "2023-04-03T18:52:21.210Z"
   },
   {
    "duration": 49,
    "start_time": "2023-04-03T18:52:22.345Z"
   },
   {
    "duration": 19,
    "start_time": "2023-04-03T18:52:22.396Z"
   },
   {
    "duration": 15,
    "start_time": "2023-04-03T18:52:22.416Z"
   },
   {
    "duration": 7,
    "start_time": "2023-04-03T18:52:22.434Z"
   },
   {
    "duration": 9,
    "start_time": "2023-04-03T18:52:22.442Z"
   },
   {
    "duration": 15,
    "start_time": "2023-04-03T18:52:22.453Z"
   },
   {
    "duration": 16,
    "start_time": "2023-04-03T18:52:22.469Z"
   },
   {
    "duration": 9,
    "start_time": "2023-04-03T18:52:22.487Z"
   },
   {
    "duration": 52,
    "start_time": "2023-04-03T18:52:22.497Z"
   },
   {
    "duration": 4,
    "start_time": "2023-04-03T18:52:22.551Z"
   },
   {
    "duration": 125,
    "start_time": "2023-04-03T18:52:22.557Z"
   },
   {
    "duration": 17,
    "start_time": "2023-04-03T18:52:50.414Z"
   },
   {
    "duration": 4,
    "start_time": "2023-04-03T18:53:00.893Z"
   },
   {
    "duration": 14,
    "start_time": "2023-04-03T18:53:03.721Z"
   },
   {
    "duration": 4,
    "start_time": "2023-04-03T18:54:44.313Z"
   },
   {
    "duration": 15,
    "start_time": "2023-04-03T18:54:46.771Z"
   },
   {
    "duration": 4,
    "start_time": "2023-04-03T18:56:13.346Z"
   },
   {
    "duration": 13,
    "start_time": "2023-04-03T18:56:14.259Z"
   },
   {
    "duration": 4,
    "start_time": "2023-04-03T18:57:33.972Z"
   },
   {
    "duration": 14,
    "start_time": "2023-04-03T18:57:36.213Z"
   },
   {
    "duration": 9,
    "start_time": "2023-04-03T18:58:17.104Z"
   },
   {
    "duration": 17,
    "start_time": "2023-04-03T18:58:28.221Z"
   },
   {
    "duration": 20,
    "start_time": "2023-04-03T18:59:02.509Z"
   },
   {
    "duration": 13,
    "start_time": "2023-04-03T18:59:08.235Z"
   },
   {
    "duration": 14,
    "start_time": "2023-04-03T18:59:23.297Z"
   },
   {
    "duration": 12,
    "start_time": "2023-04-03T19:30:39.258Z"
   },
   {
    "duration": 8,
    "start_time": "2023-04-03T19:30:48.329Z"
   },
   {
    "duration": 6,
    "start_time": "2023-04-03T19:30:50.816Z"
   },
   {
    "duration": 8,
    "start_time": "2023-04-03T19:36:35.779Z"
   },
   {
    "duration": 5,
    "start_time": "2023-04-03T19:37:05.625Z"
   },
   {
    "duration": 12,
    "start_time": "2023-04-03T19:37:44.816Z"
   },
   {
    "duration": 6,
    "start_time": "2023-04-03T19:37:48.866Z"
   },
   {
    "duration": 12,
    "start_time": "2023-04-03T19:38:38.478Z"
   },
   {
    "duration": 14,
    "start_time": "2023-04-03T19:41:56.439Z"
   },
   {
    "duration": 4,
    "start_time": "2023-04-03T19:49:06.992Z"
   },
   {
    "duration": 3,
    "start_time": "2023-04-03T19:54:05.225Z"
   },
   {
    "duration": 51,
    "start_time": "2023-05-05T14:51:54.563Z"
   },
   {
    "duration": 1398,
    "start_time": "2023-05-05T14:52:09.728Z"
   },
   {
    "duration": 97,
    "start_time": "2023-05-05T14:52:11.129Z"
   },
   {
    "duration": 27,
    "start_time": "2023-05-05T14:52:11.228Z"
   },
   {
    "duration": 15,
    "start_time": "2023-05-05T14:52:11.257Z"
   },
   {
    "duration": 5,
    "start_time": "2023-05-05T14:52:11.275Z"
   },
   {
    "duration": 29,
    "start_time": "2023-05-05T14:52:11.282Z"
   },
   {
    "duration": 20,
    "start_time": "2023-05-05T14:52:11.313Z"
   },
   {
    "duration": 12,
    "start_time": "2023-05-05T14:52:11.335Z"
   },
   {
    "duration": 5,
    "start_time": "2023-05-05T14:52:11.348Z"
   },
   {
    "duration": 16,
    "start_time": "2023-05-05T14:52:11.354Z"
   },
   {
    "duration": 27,
    "start_time": "2023-05-05T14:52:11.372Z"
   },
   {
    "duration": 15,
    "start_time": "2023-05-05T14:52:11.401Z"
   },
   {
    "duration": 29,
    "start_time": "2023-05-05T14:52:11.418Z"
   },
   {
    "duration": 14,
    "start_time": "2023-05-05T14:52:11.450Z"
   },
   {
    "duration": 35,
    "start_time": "2023-05-05T14:52:11.466Z"
   },
   {
    "duration": 19,
    "start_time": "2023-05-05T14:52:11.503Z"
   },
   {
    "duration": 17,
    "start_time": "2023-05-05T14:52:11.525Z"
   },
   {
    "duration": 13,
    "start_time": "2023-05-05T14:52:11.544Z"
   },
   {
    "duration": 69,
    "start_time": "2023-05-05T14:59:46.074Z"
   },
   {
    "duration": 1104,
    "start_time": "2023-05-05T15:03:37.472Z"
   },
   {
    "duration": 16,
    "start_time": "2023-05-05T15:03:38.582Z"
   },
   {
    "duration": 1057,
    "start_time": "2023-05-05T15:03:49.586Z"
   },
   {
    "duration": 951,
    "start_time": "2023-05-05T15:04:20.976Z"
   },
   {
    "duration": 938,
    "start_time": "2023-05-05T15:04:48.713Z"
   },
   {
    "duration": 1311,
    "start_time": "2023-05-05T15:14:33.684Z"
   },
   {
    "duration": 62,
    "start_time": "2023-05-05T15:14:34.997Z"
   },
   {
    "duration": 20,
    "start_time": "2023-05-05T15:14:35.061Z"
   },
   {
    "duration": 19,
    "start_time": "2023-05-05T15:14:35.083Z"
   },
   {
    "duration": 25,
    "start_time": "2023-05-05T15:14:35.107Z"
   },
   {
    "duration": 12,
    "start_time": "2023-05-05T15:14:35.134Z"
   },
   {
    "duration": 23,
    "start_time": "2023-05-05T15:14:35.148Z"
   },
   {
    "duration": 11,
    "start_time": "2023-05-05T15:14:35.172Z"
   },
   {
    "duration": 21,
    "start_time": "2023-05-05T15:14:35.184Z"
   },
   {
    "duration": 42,
    "start_time": "2023-05-05T15:14:35.206Z"
   },
   {
    "duration": 1329,
    "start_time": "2023-05-05T15:14:35.250Z"
   },
   {
    "duration": 0,
    "start_time": "2023-05-05T15:14:36.581Z"
   },
   {
    "duration": 0,
    "start_time": "2023-05-05T15:14:36.582Z"
   },
   {
    "duration": 0,
    "start_time": "2023-05-05T15:14:36.584Z"
   },
   {
    "duration": 0,
    "start_time": "2023-05-05T15:14:36.585Z"
   },
   {
    "duration": 0,
    "start_time": "2023-05-05T15:14:36.587Z"
   },
   {
    "duration": 0,
    "start_time": "2023-05-05T15:14:36.588Z"
   },
   {
    "duration": 0,
    "start_time": "2023-05-05T15:14:36.589Z"
   },
   {
    "duration": 12,
    "start_time": "2023-05-05T15:14:49.521Z"
   },
   {
    "duration": 7,
    "start_time": "2023-05-05T15:15:00.675Z"
   },
   {
    "duration": 9,
    "start_time": "2023-05-05T15:15:02.040Z"
   },
   {
    "duration": 7,
    "start_time": "2023-05-05T15:15:03.488Z"
   },
   {
    "duration": 1357,
    "start_time": "2023-05-05T15:15:20.805Z"
   },
   {
    "duration": 26,
    "start_time": "2023-05-05T15:16:28.128Z"
   },
   {
    "duration": 5,
    "start_time": "2023-05-05T15:16:29.728Z"
   },
   {
    "duration": 24,
    "start_time": "2023-05-05T15:16:36.869Z"
   },
   {
    "duration": 9,
    "start_time": "2023-05-05T15:16:46.124Z"
   },
   {
    "duration": 6,
    "start_time": "2023-05-05T16:04:34.484Z"
   },
   {
    "duration": 8,
    "start_time": "2023-05-05T16:04:56.370Z"
   },
   {
    "duration": 4,
    "start_time": "2023-05-05T16:05:05.419Z"
   },
   {
    "duration": 12,
    "start_time": "2023-05-05T16:05:14.089Z"
   },
   {
    "duration": 6,
    "start_time": "2023-05-05T16:05:17.762Z"
   },
   {
    "duration": 66,
    "start_time": "2023-05-08T18:46:51.098Z"
   },
   {
    "duration": 1447,
    "start_time": "2023-05-08T18:46:57.899Z"
   },
   {
    "duration": 215,
    "start_time": "2023-05-08T18:46:59.348Z"
   },
   {
    "duration": 23,
    "start_time": "2023-05-08T18:46:59.565Z"
   },
   {
    "duration": 17,
    "start_time": "2023-05-08T18:46:59.590Z"
   },
   {
    "duration": 5,
    "start_time": "2023-05-08T18:46:59.609Z"
   },
   {
    "duration": 34,
    "start_time": "2023-05-08T18:46:59.616Z"
   },
   {
    "duration": 20,
    "start_time": "2023-05-08T18:46:59.651Z"
   },
   {
    "duration": 10,
    "start_time": "2023-05-08T18:46:59.673Z"
   },
   {
    "duration": 10,
    "start_time": "2023-05-08T18:46:59.685Z"
   },
   {
    "duration": 18,
    "start_time": "2023-05-08T18:46:59.697Z"
   },
   {
    "duration": 25,
    "start_time": "2023-05-08T18:46:59.716Z"
   },
   {
    "duration": 24,
    "start_time": "2023-05-08T18:46:59.743Z"
   },
   {
    "duration": 9,
    "start_time": "2023-05-08T18:46:59.770Z"
   },
   {
    "duration": 26,
    "start_time": "2023-05-08T18:46:59.781Z"
   },
   {
    "duration": 27,
    "start_time": "2023-05-08T18:46:59.809Z"
   },
   {
    "duration": 22,
    "start_time": "2023-05-08T18:46:59.838Z"
   },
   {
    "duration": 14,
    "start_time": "2023-05-08T18:46:59.862Z"
   },
   {
    "duration": 11,
    "start_time": "2023-05-08T18:46:59.877Z"
   },
   {
    "duration": 10,
    "start_time": "2023-05-08T18:46:59.890Z"
   },
   {
    "duration": 11,
    "start_time": "2023-05-08T18:46:59.901Z"
   },
   {
    "duration": 247,
    "start_time": "2023-05-08T18:46:59.913Z"
   },
   {
    "duration": 180,
    "start_time": "2023-05-08T18:48:47.279Z"
   },
   {
    "duration": 190,
    "start_time": "2023-05-08T19:04:28.219Z"
   },
   {
    "duration": 143,
    "start_time": "2023-05-08T19:15:05.893Z"
   },
   {
    "duration": 20,
    "start_time": "2023-05-08T19:16:10.239Z"
   },
   {
    "duration": 193,
    "start_time": "2023-05-08T19:16:47.931Z"
   },
   {
    "duration": 214,
    "start_time": "2023-05-08T19:17:04.509Z"
   },
   {
    "duration": 268,
    "start_time": "2023-05-08T19:17:13.533Z"
   },
   {
    "duration": 2509,
    "start_time": "2023-05-08T19:23:40.339Z"
   },
   {
    "duration": 7,
    "start_time": "2023-05-08T19:45:12.975Z"
   },
   {
    "duration": 34,
    "start_time": "2023-05-08T19:45:43.213Z"
   },
   {
    "duration": 33,
    "start_time": "2023-05-08T19:46:36.843Z"
   },
   {
    "duration": 35,
    "start_time": "2023-05-08T19:46:43.139Z"
   },
   {
    "duration": 31,
    "start_time": "2023-05-08T19:48:14.758Z"
   },
   {
    "duration": 325,
    "start_time": "2023-05-08T19:48:21.707Z"
   },
   {
    "duration": 284,
    "start_time": "2023-05-08T19:49:31.458Z"
   },
   {
    "duration": 314,
    "start_time": "2023-05-08T20:04:48.047Z"
   },
   {
    "duration": 13,
    "start_time": "2023-05-08T20:05:32.343Z"
   },
   {
    "duration": 254,
    "start_time": "2023-05-08T20:05:45.479Z"
   },
   {
    "duration": 13,
    "start_time": "2023-05-08T20:11:39.508Z"
   },
   {
    "duration": 10,
    "start_time": "2023-05-08T20:12:43.851Z"
   },
   {
    "duration": 28,
    "start_time": "2023-05-08T20:15:08.147Z"
   },
   {
    "duration": 20,
    "start_time": "2023-05-08T20:15:18.354Z"
   },
   {
    "duration": 22,
    "start_time": "2023-05-08T20:15:25.783Z"
   },
   {
    "duration": 10,
    "start_time": "2023-05-08T20:15:43.572Z"
   },
   {
    "duration": 11,
    "start_time": "2023-05-08T20:15:50.744Z"
   },
   {
    "duration": 10,
    "start_time": "2023-05-08T20:15:58.061Z"
   },
   {
    "duration": 11,
    "start_time": "2023-05-08T20:16:13.370Z"
   },
   {
    "duration": 360,
    "start_time": "2023-05-08T20:25:41.665Z"
   },
   {
    "duration": 285,
    "start_time": "2023-05-08T20:25:56.909Z"
   },
   {
    "duration": 279,
    "start_time": "2023-05-08T20:26:03.464Z"
   },
   {
    "duration": 310,
    "start_time": "2023-05-08T20:28:13.126Z"
   },
   {
    "duration": 301,
    "start_time": "2023-05-08T20:28:41.370Z"
   },
   {
    "duration": 107,
    "start_time": "2023-05-08T20:30:08.071Z"
   },
   {
    "duration": 79,
    "start_time": "2023-05-08T20:30:28.812Z"
   },
   {
    "duration": 20,
    "start_time": "2023-05-08T20:31:56.642Z"
   },
   {
    "duration": 71,
    "start_time": "2023-05-08T20:32:29.501Z"
   },
   {
    "duration": 35,
    "start_time": "2023-05-08T20:32:52.709Z"
   },
   {
    "duration": 26,
    "start_time": "2023-05-08T20:34:01.134Z"
   },
   {
    "duration": 17,
    "start_time": "2023-05-08T20:34:58.051Z"
   },
   {
    "duration": 17,
    "start_time": "2023-05-08T20:35:34.434Z"
   },
   {
    "duration": 131,
    "start_time": "2023-05-08T20:41:15.750Z"
   },
   {
    "duration": 23,
    "start_time": "2023-05-08T20:42:47.676Z"
   },
   {
    "duration": 20,
    "start_time": "2023-05-08T20:43:06.570Z"
   },
   {
    "duration": 25,
    "start_time": "2023-05-08T20:44:00.604Z"
   },
   {
    "duration": 20,
    "start_time": "2023-05-08T20:44:19.840Z"
   },
   {
    "duration": 1301,
    "start_time": "2023-05-08T20:47:14.475Z"
   },
   {
    "duration": 65,
    "start_time": "2023-05-08T20:47:15.778Z"
   },
   {
    "duration": 20,
    "start_time": "2023-05-08T20:47:15.845Z"
   },
   {
    "duration": 32,
    "start_time": "2023-05-08T20:47:15.867Z"
   },
   {
    "duration": 19,
    "start_time": "2023-05-08T20:47:15.901Z"
   },
   {
    "duration": 16,
    "start_time": "2023-05-08T20:47:15.923Z"
   },
   {
    "duration": 36,
    "start_time": "2023-05-08T20:47:15.942Z"
   },
   {
    "duration": 10,
    "start_time": "2023-05-08T20:47:15.980Z"
   },
   {
    "duration": 10,
    "start_time": "2023-05-08T20:47:15.992Z"
   },
   {
    "duration": 34,
    "start_time": "2023-05-08T20:47:16.005Z"
   },
   {
    "duration": 13,
    "start_time": "2023-05-08T20:47:16.042Z"
   },
   {
    "duration": 13,
    "start_time": "2023-05-08T20:47:16.057Z"
   },
   {
    "duration": 17,
    "start_time": "2023-05-08T20:47:16.072Z"
   },
   {
    "duration": 20,
    "start_time": "2023-05-08T20:47:16.091Z"
   },
   {
    "duration": 23,
    "start_time": "2023-05-08T20:47:16.113Z"
   },
   {
    "duration": 24,
    "start_time": "2023-05-08T20:47:16.139Z"
   },
   {
    "duration": 9,
    "start_time": "2023-05-08T20:47:16.165Z"
   },
   {
    "duration": 15,
    "start_time": "2023-05-08T20:47:16.175Z"
   },
   {
    "duration": 18,
    "start_time": "2023-05-08T20:47:16.191Z"
   },
   {
    "duration": 16,
    "start_time": "2023-05-08T20:47:16.211Z"
   },
   {
    "duration": 265,
    "start_time": "2023-05-08T20:47:16.229Z"
   },
   {
    "duration": 210,
    "start_time": "2023-05-08T20:47:16.496Z"
   },
   {
    "duration": 36,
    "start_time": "2023-05-08T20:47:16.708Z"
   },
   {
    "duration": 274,
    "start_time": "2023-05-08T20:47:16.745Z"
   },
   {
    "duration": 2597,
    "start_time": "2023-05-08T20:47:17.021Z"
   },
   {
    "duration": 9,
    "start_time": "2023-05-08T20:47:19.621Z"
   },
   {
    "duration": 344,
    "start_time": "2023-05-08T20:47:19.632Z"
   },
   {
    "duration": 383,
    "start_time": "2023-05-08T20:47:19.981Z"
   },
   {
    "duration": 164,
    "start_time": "2023-05-08T20:47:20.366Z"
   },
   {
    "duration": 15,
    "start_time": "2023-05-08T20:47:20.532Z"
   },
   {
    "duration": 35,
    "start_time": "2023-05-08T20:47:20.549Z"
   },
   {
    "duration": 49,
    "start_time": "2023-05-08T20:47:20.586Z"
   },
   {
    "duration": 64,
    "start_time": "2023-05-08T20:47:20.639Z"
   },
   {
    "duration": 53,
    "start_time": "2023-05-08T20:47:20.706Z"
   },
   {
    "duration": 336,
    "start_time": "2023-05-08T20:47:20.761Z"
   },
   {
    "duration": 159,
    "start_time": "2023-05-08T20:47:21.099Z"
   },
   {
    "duration": 239,
    "start_time": "2023-05-08T20:48:03.153Z"
   },
   {
    "duration": 20,
    "start_time": "2023-05-08T20:48:29.700Z"
   },
   {
    "duration": 20,
    "start_time": "2023-05-08T20:48:49.982Z"
   },
   {
    "duration": 69,
    "start_time": "2023-05-08T20:49:04.079Z"
   },
   {
    "duration": 225,
    "start_time": "2023-05-08T20:49:13.125Z"
   },
   {
    "duration": 19,
    "start_time": "2023-05-08T20:50:47.190Z"
   },
   {
    "duration": 24,
    "start_time": "2023-05-08T20:51:06.765Z"
   },
   {
    "duration": 18,
    "start_time": "2023-05-08T20:51:41.277Z"
   },
   {
    "duration": 512,
    "start_time": "2023-05-08T20:58:06.780Z"
   },
   {
    "duration": 440,
    "start_time": "2023-05-08T20:59:12.022Z"
   },
   {
    "duration": 19,
    "start_time": "2023-05-08T20:59:37.775Z"
   },
   {
    "duration": 78,
    "start_time": "2023-05-08T21:01:24.287Z"
   },
   {
    "duration": 268,
    "start_time": "2023-05-08T21:01:52.996Z"
   },
   {
    "duration": 255,
    "start_time": "2023-05-08T21:02:45.897Z"
   },
   {
    "duration": 256,
    "start_time": "2023-05-08T21:03:41.105Z"
   },
   {
    "duration": 12,
    "start_time": "2023-05-08T21:04:33.416Z"
   },
   {
    "duration": 20,
    "start_time": "2023-05-08T21:04:43.064Z"
   },
   {
    "duration": 21,
    "start_time": "2023-05-08T21:04:56.559Z"
   },
   {
    "duration": 20,
    "start_time": "2023-05-08T21:05:09.353Z"
   },
   {
    "duration": 9,
    "start_time": "2023-05-08T21:06:14.500Z"
   },
   {
    "duration": 11,
    "start_time": "2023-05-08T21:14:47.193Z"
   },
   {
    "duration": 8,
    "start_time": "2023-05-08T21:14:50.677Z"
   },
   {
    "duration": 8,
    "start_time": "2023-05-08T21:14:55.822Z"
   },
   {
    "duration": 17,
    "start_time": "2023-05-08T21:15:46.469Z"
   },
   {
    "duration": 14,
    "start_time": "2023-05-08T21:23:38.738Z"
   },
   {
    "duration": 6,
    "start_time": "2023-05-08T21:24:57.588Z"
   },
   {
    "duration": 11,
    "start_time": "2023-05-08T21:25:45.915Z"
   },
   {
    "duration": 12,
    "start_time": "2023-05-08T21:26:18.448Z"
   },
   {
    "duration": 7,
    "start_time": "2023-05-08T21:26:39.810Z"
   },
   {
    "duration": 1361,
    "start_time": "2023-05-09T16:37:35.520Z"
   },
   {
    "duration": 223,
    "start_time": "2023-05-09T16:37:36.883Z"
   },
   {
    "duration": 25,
    "start_time": "2023-05-09T16:37:37.109Z"
   },
   {
    "duration": 15,
    "start_time": "2023-05-09T16:37:37.136Z"
   },
   {
    "duration": 4,
    "start_time": "2023-05-09T16:37:37.153Z"
   },
   {
    "duration": 18,
    "start_time": "2023-05-09T16:37:37.158Z"
   },
   {
    "duration": 21,
    "start_time": "2023-05-09T16:37:37.177Z"
   },
   {
    "duration": 10,
    "start_time": "2023-05-09T16:37:37.200Z"
   },
   {
    "duration": 21,
    "start_time": "2023-05-09T16:37:37.212Z"
   },
   {
    "duration": 10,
    "start_time": "2023-05-09T16:37:37.235Z"
   },
   {
    "duration": 11,
    "start_time": "2023-05-09T16:37:37.247Z"
   },
   {
    "duration": 13,
    "start_time": "2023-05-09T16:37:37.259Z"
   },
   {
    "duration": 7,
    "start_time": "2023-05-09T16:37:37.273Z"
   },
   {
    "duration": 8,
    "start_time": "2023-05-09T16:37:37.283Z"
   },
   {
    "duration": 40,
    "start_time": "2023-05-09T16:37:37.293Z"
   },
   {
    "duration": 17,
    "start_time": "2023-05-09T16:37:37.335Z"
   },
   {
    "duration": 6,
    "start_time": "2023-05-09T16:37:37.353Z"
   },
   {
    "duration": 20,
    "start_time": "2023-05-09T16:37:37.361Z"
   },
   {
    "duration": 17,
    "start_time": "2023-05-12T15:23:53.627Z"
   },
   {
    "duration": 123,
    "start_time": "2023-05-12T15:45:22.838Z"
   },
   {
    "duration": 2439,
    "start_time": "2023-05-12T15:45:35.834Z"
   },
   {
    "duration": 355,
    "start_time": "2023-05-12T15:45:38.275Z"
   },
   {
    "duration": 62,
    "start_time": "2023-05-12T15:45:38.632Z"
   },
   {
    "duration": 45,
    "start_time": "2023-05-12T15:45:38.698Z"
   },
   {
    "duration": 14,
    "start_time": "2023-05-12T15:45:38.747Z"
   },
   {
    "duration": 26,
    "start_time": "2023-05-12T15:45:38.763Z"
   },
   {
    "duration": 83,
    "start_time": "2023-05-12T15:45:38.791Z"
   },
   {
    "duration": 36,
    "start_time": "2023-05-12T15:45:38.890Z"
   },
   {
    "duration": 18,
    "start_time": "2023-05-12T15:45:38.928Z"
   },
   {
    "duration": 53,
    "start_time": "2023-05-12T15:45:38.949Z"
   },
   {
    "duration": 38,
    "start_time": "2023-05-12T15:45:39.004Z"
   },
   {
    "duration": 25,
    "start_time": "2023-05-12T15:45:39.046Z"
   },
   {
    "duration": 23,
    "start_time": "2023-05-12T15:45:39.087Z"
   },
   {
    "duration": 19,
    "start_time": "2023-05-12T15:45:39.116Z"
   },
   {
    "duration": 39,
    "start_time": "2023-05-12T15:45:39.138Z"
   },
   {
    "duration": 39,
    "start_time": "2023-05-12T15:45:39.181Z"
   },
   {
    "duration": 9,
    "start_time": "2023-05-12T15:45:39.229Z"
   },
   {
    "duration": 7,
    "start_time": "2023-05-12T15:45:39.248Z"
   },
   {
    "duration": 206,
    "start_time": "2023-05-12T15:45:39.268Z"
   },
   {
    "duration": 0,
    "start_time": "2023-05-12T15:45:39.481Z"
   },
   {
    "duration": 0,
    "start_time": "2023-05-12T15:45:39.486Z"
   },
   {
    "duration": 0,
    "start_time": "2023-05-12T15:45:39.487Z"
   },
   {
    "duration": 0,
    "start_time": "2023-05-12T15:45:39.489Z"
   },
   {
    "duration": 0,
    "start_time": "2023-05-12T15:45:39.494Z"
   },
   {
    "duration": 0,
    "start_time": "2023-05-12T15:45:39.495Z"
   },
   {
    "duration": 0,
    "start_time": "2023-05-12T15:45:39.497Z"
   },
   {
    "duration": 0,
    "start_time": "2023-05-12T15:45:39.498Z"
   },
   {
    "duration": 0,
    "start_time": "2023-05-12T15:45:39.503Z"
   },
   {
    "duration": 0,
    "start_time": "2023-05-12T15:45:39.504Z"
   },
   {
    "duration": 0,
    "start_time": "2023-05-12T15:45:39.506Z"
   },
   {
    "duration": 0,
    "start_time": "2023-05-12T15:45:39.511Z"
   },
   {
    "duration": 0,
    "start_time": "2023-05-12T15:45:39.513Z"
   },
   {
    "duration": 0,
    "start_time": "2023-05-12T15:45:39.514Z"
   },
   {
    "duration": 0,
    "start_time": "2023-05-12T15:45:39.519Z"
   },
   {
    "duration": 0,
    "start_time": "2023-05-12T15:45:39.521Z"
   },
   {
    "duration": 0,
    "start_time": "2023-05-12T15:45:39.531Z"
   },
   {
    "duration": 0,
    "start_time": "2023-05-12T15:45:39.532Z"
   },
   {
    "duration": 0,
    "start_time": "2023-05-12T15:45:39.534Z"
   },
   {
    "duration": 0,
    "start_time": "2023-05-12T15:45:39.535Z"
   },
   {
    "duration": 0,
    "start_time": "2023-05-12T15:45:39.537Z"
   },
   {
    "duration": 0,
    "start_time": "2023-05-12T15:45:39.538Z"
   },
   {
    "duration": 0,
    "start_time": "2023-05-12T15:45:39.540Z"
   },
   {
    "duration": 0,
    "start_time": "2023-05-12T15:45:39.542Z"
   },
   {
    "duration": 0,
    "start_time": "2023-05-12T15:45:39.544Z"
   },
   {
    "duration": 0,
    "start_time": "2023-05-12T15:45:39.551Z"
   },
   {
    "duration": 0,
    "start_time": "2023-05-12T15:45:39.553Z"
   },
   {
    "duration": 0,
    "start_time": "2023-05-12T15:45:39.554Z"
   },
   {
    "duration": 1,
    "start_time": "2023-05-12T15:45:39.555Z"
   },
   {
    "duration": 0,
    "start_time": "2023-05-12T15:45:39.557Z"
   },
   {
    "duration": 0,
    "start_time": "2023-05-12T15:45:39.563Z"
   },
   {
    "duration": 14,
    "start_time": "2023-05-12T15:46:12.541Z"
   },
   {
    "duration": 25,
    "start_time": "2023-05-12T15:48:39.544Z"
   },
   {
    "duration": 25,
    "start_time": "2023-05-12T15:50:34.530Z"
   },
   {
    "duration": 2096,
    "start_time": "2023-05-12T15:51:04.248Z"
   },
   {
    "duration": 21,
    "start_time": "2023-05-12T15:52:11.891Z"
   },
   {
    "duration": 31,
    "start_time": "2023-05-12T15:53:20.150Z"
   },
   {
    "duration": 26,
    "start_time": "2023-05-12T15:54:33.711Z"
   },
   {
    "duration": 19,
    "start_time": "2023-05-12T15:54:41.050Z"
   },
   {
    "duration": 16,
    "start_time": "2023-05-12T16:05:11.724Z"
   },
   {
    "duration": 10,
    "start_time": "2023-05-12T16:07:45.507Z"
   },
   {
    "duration": 18,
    "start_time": "2023-05-12T16:08:22.191Z"
   },
   {
    "duration": 18,
    "start_time": "2023-05-12T16:11:06.405Z"
   },
   {
    "duration": 25,
    "start_time": "2023-05-12T16:11:24.823Z"
   },
   {
    "duration": 14,
    "start_time": "2023-05-12T16:16:23.614Z"
   },
   {
    "duration": 16,
    "start_time": "2023-05-12T16:19:08.820Z"
   },
   {
    "duration": 4,
    "start_time": "2023-05-12T16:19:51.020Z"
   },
   {
    "duration": 25,
    "start_time": "2023-05-12T16:20:04.230Z"
   },
   {
    "duration": 22,
    "start_time": "2023-05-12T16:41:31.597Z"
   },
   {
    "duration": 233,
    "start_time": "2023-05-12T16:41:36.672Z"
   },
   {
    "duration": 213,
    "start_time": "2023-05-12T16:47:56.290Z"
   },
   {
    "duration": 258,
    "start_time": "2023-05-12T16:52:08.885Z"
   },
   {
    "duration": 2278,
    "start_time": "2023-05-12T16:53:14.456Z"
   },
   {
    "duration": 259,
    "start_time": "2023-05-12T16:54:20.760Z"
   },
   {
    "duration": 12,
    "start_time": "2023-05-12T16:56:41.292Z"
   },
   {
    "duration": 11,
    "start_time": "2023-05-12T16:56:53.137Z"
   },
   {
    "duration": 6,
    "start_time": "2023-05-12T16:56:59.888Z"
   },
   {
    "duration": 307,
    "start_time": "2023-05-12T16:57:02.863Z"
   },
   {
    "duration": 2450,
    "start_time": "2023-05-12T16:57:44.805Z"
   },
   {
    "duration": 2435,
    "start_time": "2023-05-12T16:59:41.288Z"
   },
   {
    "duration": 2354,
    "start_time": "2023-05-12T16:59:56.746Z"
   },
   {
    "duration": 2546,
    "start_time": "2023-05-12T17:00:29.244Z"
   },
   {
    "duration": 67,
    "start_time": "2023-05-12T17:03:46.150Z"
   },
   {
    "duration": 394,
    "start_time": "2023-05-12T17:04:10.308Z"
   },
   {
    "duration": 355,
    "start_time": "2023-05-12T17:04:52.238Z"
   },
   {
    "duration": 2212,
    "start_time": "2023-05-12T17:07:18.408Z"
   },
   {
    "duration": 2274,
    "start_time": "2023-05-12T17:08:21.118Z"
   },
   {
    "duration": 80,
    "start_time": "2023-05-12T17:12:30.222Z"
   },
   {
    "duration": 67,
    "start_time": "2023-05-12T17:12:58.952Z"
   },
   {
    "duration": 2295,
    "start_time": "2023-05-12T17:13:21.597Z"
   },
   {
    "duration": 2223,
    "start_time": "2023-05-12T17:15:48.190Z"
   },
   {
    "duration": 315,
    "start_time": "2023-05-12T17:20:16.288Z"
   },
   {
    "duration": 7,
    "start_time": "2023-05-12T17:22:05.876Z"
   },
   {
    "duration": 264,
    "start_time": "2023-05-12T17:22:12.889Z"
   },
   {
    "duration": 10,
    "start_time": "2023-05-12T17:22:15.197Z"
   },
   {
    "duration": 12,
    "start_time": "2023-05-12T17:22:18.802Z"
   },
   {
    "duration": 10,
    "start_time": "2023-05-12T17:22:21.804Z"
   },
   {
    "duration": 15,
    "start_time": "2023-05-12T17:22:27.184Z"
   },
   {
    "duration": 11,
    "start_time": "2023-05-12T17:22:31.186Z"
   },
   {
    "duration": 11,
    "start_time": "2023-05-12T17:22:33.939Z"
   },
   {
    "duration": 10,
    "start_time": "2023-05-12T17:22:38.230Z"
   },
   {
    "duration": 308,
    "start_time": "2023-05-12T17:22:44.303Z"
   },
   {
    "duration": 15,
    "start_time": "2023-05-12T17:23:10.793Z"
   },
   {
    "duration": 348,
    "start_time": "2023-05-12T17:24:56.891Z"
   },
   {
    "duration": 14,
    "start_time": "2023-05-12T17:25:03.811Z"
   },
   {
    "duration": 224,
    "start_time": "2023-05-12T17:25:47.801Z"
   },
   {
    "duration": 269,
    "start_time": "2023-05-12T18:14:58.821Z"
   },
   {
    "duration": 268,
    "start_time": "2023-05-12T18:17:02.507Z"
   },
   {
    "duration": 263,
    "start_time": "2023-05-12T18:17:28.577Z"
   },
   {
    "duration": 292,
    "start_time": "2023-05-12T18:17:39.332Z"
   },
   {
    "duration": 208,
    "start_time": "2023-05-12T18:17:50.486Z"
   },
   {
    "duration": 240,
    "start_time": "2023-05-12T18:18:06.337Z"
   },
   {
    "duration": 249,
    "start_time": "2023-05-12T18:18:24.657Z"
   },
   {
    "duration": 213,
    "start_time": "2023-05-12T18:20:26.514Z"
   },
   {
    "duration": 354,
    "start_time": "2023-05-12T18:20:35.032Z"
   },
   {
    "duration": 344,
    "start_time": "2023-05-12T18:21:23.887Z"
   },
   {
    "duration": 303,
    "start_time": "2023-05-12T18:23:51.124Z"
   },
   {
    "duration": 3,
    "start_time": "2023-05-12T18:27:36.368Z"
   },
   {
    "duration": 8,
    "start_time": "2023-05-12T18:29:47.096Z"
   },
   {
    "duration": 10,
    "start_time": "2023-05-12T18:31:43.644Z"
   },
   {
    "duration": 244,
    "start_time": "2023-05-12T18:34:32.448Z"
   },
   {
    "duration": 238,
    "start_time": "2023-05-12T18:36:29.376Z"
   },
   {
    "duration": 216,
    "start_time": "2023-05-12T18:36:59.612Z"
   },
   {
    "duration": 115,
    "start_time": "2023-05-12T18:37:16.093Z"
   },
   {
    "duration": 16,
    "start_time": "2023-05-12T18:37:31.154Z"
   },
   {
    "duration": 15,
    "start_time": "2023-05-12T18:37:41.844Z"
   },
   {
    "duration": 14,
    "start_time": "2023-05-12T18:37:45.313Z"
   },
   {
    "duration": 9,
    "start_time": "2023-05-12T18:37:49.648Z"
   },
   {
    "duration": 8,
    "start_time": "2023-05-12T18:37:59.942Z"
   },
   {
    "duration": 16,
    "start_time": "2023-05-12T18:38:04.883Z"
   },
   {
    "duration": 3,
    "start_time": "2023-05-12T18:38:48.573Z"
   },
   {
    "duration": 11,
    "start_time": "2023-05-12T18:38:52.073Z"
   },
   {
    "duration": 9,
    "start_time": "2023-05-12T18:38:55.642Z"
   },
   {
    "duration": 11,
    "start_time": "2023-05-12T18:43:15.194Z"
   },
   {
    "duration": 5,
    "start_time": "2023-05-12T18:45:54.783Z"
   },
   {
    "duration": 10,
    "start_time": "2023-05-12T18:45:58.060Z"
   },
   {
    "duration": 5,
    "start_time": "2023-05-12T18:46:01.576Z"
   },
   {
    "duration": 222,
    "start_time": "2023-05-12T18:47:12.673Z"
   },
   {
    "duration": 4,
    "start_time": "2023-05-12T18:48:34.751Z"
   },
   {
    "duration": 4,
    "start_time": "2023-05-12T18:48:37.170Z"
   },
   {
    "duration": 194,
    "start_time": "2023-05-12T18:48:40.950Z"
   },
   {
    "duration": 182,
    "start_time": "2023-05-12T18:48:47.377Z"
   },
   {
    "duration": 7,
    "start_time": "2023-05-12T18:50:07.598Z"
   },
   {
    "duration": 8,
    "start_time": "2023-05-12T18:50:15.601Z"
   },
   {
    "duration": 225,
    "start_time": "2023-05-12T18:51:12.992Z"
   },
   {
    "duration": 252,
    "start_time": "2023-05-12T18:51:30.144Z"
   },
   {
    "duration": 474,
    "start_time": "2023-05-12T18:51:53.891Z"
   },
   {
    "duration": 244,
    "start_time": "2023-05-12T18:52:04.787Z"
   },
   {
    "duration": 206,
    "start_time": "2023-05-12T18:52:33.389Z"
   },
   {
    "duration": 1409,
    "start_time": "2023-05-12T19:51:53.753Z"
   },
   {
    "duration": 196,
    "start_time": "2023-05-12T19:51:55.164Z"
   },
   {
    "duration": 29,
    "start_time": "2023-05-12T19:51:55.362Z"
   },
   {
    "duration": 21,
    "start_time": "2023-05-12T19:51:55.393Z"
   },
   {
    "duration": 5,
    "start_time": "2023-05-12T19:51:55.423Z"
   },
   {
    "duration": 22,
    "start_time": "2023-05-12T19:51:55.430Z"
   },
   {
    "duration": 24,
    "start_time": "2023-05-12T19:51:55.453Z"
   },
   {
    "duration": 20,
    "start_time": "2023-05-12T19:51:55.479Z"
   },
   {
    "duration": 3,
    "start_time": "2023-05-12T19:51:55.501Z"
   },
   {
    "duration": 10,
    "start_time": "2023-05-12T19:51:55.506Z"
   },
   {
    "duration": 35,
    "start_time": "2023-05-12T19:51:55.518Z"
   },
   {
    "duration": 16,
    "start_time": "2023-05-12T19:51:55.555Z"
   },
   {
    "duration": 9,
    "start_time": "2023-05-12T19:51:55.572Z"
   },
   {
    "duration": 16,
    "start_time": "2023-05-12T19:51:55.584Z"
   },
   {
    "duration": 12,
    "start_time": "2023-05-12T19:51:55.602Z"
   },
   {
    "duration": 23,
    "start_time": "2023-05-12T19:51:55.615Z"
   },
   {
    "duration": 11,
    "start_time": "2023-05-12T19:51:55.640Z"
   },
   {
    "duration": 10,
    "start_time": "2023-05-12T19:51:55.653Z"
   },
   {
    "duration": 19,
    "start_time": "2023-05-12T19:51:55.665Z"
   },
   {
    "duration": 12,
    "start_time": "2023-05-12T19:51:55.686Z"
   },
   {
    "duration": 33,
    "start_time": "2023-05-12T19:51:55.700Z"
   },
   {
    "duration": 37,
    "start_time": "2023-05-12T19:51:55.735Z"
   },
   {
    "duration": 5,
    "start_time": "2023-05-12T19:51:55.774Z"
   },
   {
    "duration": 8,
    "start_time": "2023-05-12T19:51:55.780Z"
   },
   {
    "duration": 274,
    "start_time": "2023-05-12T19:51:55.790Z"
   },
   {
    "duration": 230,
    "start_time": "2023-05-12T19:51:56.066Z"
   },
   {
    "duration": 25,
    "start_time": "2023-05-12T19:51:56.298Z"
   },
   {
    "duration": 274,
    "start_time": "2023-05-12T19:51:56.325Z"
   },
   {
    "duration": 2171,
    "start_time": "2023-05-12T19:51:56.600Z"
   },
   {
    "duration": 4,
    "start_time": "2023-05-12T19:51:58.773Z"
   },
   {
    "duration": 18,
    "start_time": "2023-05-12T19:51:58.779Z"
   },
   {
    "duration": 347,
    "start_time": "2023-05-12T19:51:58.799Z"
   },
   {
    "duration": 332,
    "start_time": "2023-05-12T19:51:59.148Z"
   },
   {
    "duration": 171,
    "start_time": "2023-05-12T19:51:59.481Z"
   },
   {
    "duration": 11,
    "start_time": "2023-05-12T19:51:59.654Z"
   },
   {
    "duration": 28,
    "start_time": "2023-05-12T19:51:59.667Z"
   },
   {
    "duration": 37,
    "start_time": "2023-05-12T19:51:59.697Z"
   },
   {
    "duration": 14,
    "start_time": "2023-05-12T19:51:59.736Z"
   },
   {
    "duration": 11,
    "start_time": "2023-05-12T19:51:59.752Z"
   },
   {
    "duration": 237,
    "start_time": "2023-05-12T19:51:59.764Z"
   },
   {
    "duration": 308,
    "start_time": "2023-05-12T19:52:00.006Z"
   },
   {
    "duration": 2,
    "start_time": "2023-05-12T19:52:00.317Z"
   },
   {
    "duration": 48,
    "start_time": "2023-05-13T19:22:13.421Z"
   },
   {
    "duration": 7,
    "start_time": "2023-05-13T19:22:16.424Z"
   },
   {
    "duration": 6,
    "start_time": "2023-05-13T19:22:18.426Z"
   },
   {
    "duration": 6,
    "start_time": "2023-05-13T19:22:20.834Z"
   },
   {
    "duration": 6,
    "start_time": "2023-05-13T19:22:24.543Z"
   },
   {
    "duration": 5,
    "start_time": "2023-05-13T19:22:55.289Z"
   },
   {
    "duration": 1277,
    "start_time": "2023-05-13T19:23:04.110Z"
   },
   {
    "duration": 196,
    "start_time": "2023-05-13T19:23:05.389Z"
   },
   {
    "duration": 25,
    "start_time": "2023-05-13T19:23:05.587Z"
   },
   {
    "duration": 14,
    "start_time": "2023-05-13T19:23:05.614Z"
   },
   {
    "duration": 4,
    "start_time": "2023-05-13T19:23:05.629Z"
   },
   {
    "duration": 21,
    "start_time": "2023-05-13T19:23:05.635Z"
   },
   {
    "duration": 19,
    "start_time": "2023-05-13T19:23:05.658Z"
   },
   {
    "duration": 23,
    "start_time": "2023-05-13T19:23:05.679Z"
   },
   {
    "duration": 8,
    "start_time": "2023-05-13T19:23:05.704Z"
   },
   {
    "duration": 22,
    "start_time": "2023-05-13T19:23:05.715Z"
   },
   {
    "duration": 8,
    "start_time": "2023-05-13T19:23:05.740Z"
   },
   {
    "duration": 14,
    "start_time": "2023-05-13T19:23:05.750Z"
   },
   {
    "duration": 11,
    "start_time": "2023-05-13T19:23:05.766Z"
   },
   {
    "duration": 16,
    "start_time": "2023-05-13T19:23:05.779Z"
   },
   {
    "duration": 13,
    "start_time": "2023-05-13T19:23:05.797Z"
   },
   {
    "duration": 14,
    "start_time": "2023-05-13T19:23:05.812Z"
   },
   {
    "duration": 10,
    "start_time": "2023-05-13T19:23:05.828Z"
   },
   {
    "duration": 10,
    "start_time": "2023-05-13T19:23:05.840Z"
   },
   {
    "duration": 21,
    "start_time": "2023-05-13T19:23:05.852Z"
   },
   {
    "duration": 22,
    "start_time": "2023-05-13T19:23:05.875Z"
   },
   {
    "duration": 13,
    "start_time": "2023-05-13T19:23:05.899Z"
   },
   {
    "duration": 19,
    "start_time": "2023-05-13T19:23:05.914Z"
   },
   {
    "duration": 3,
    "start_time": "2023-05-13T19:23:05.935Z"
   },
   {
    "duration": 13,
    "start_time": "2023-05-13T19:23:05.940Z"
   },
   {
    "duration": 241,
    "start_time": "2023-05-13T19:23:05.955Z"
   },
   {
    "duration": 201,
    "start_time": "2023-05-13T19:23:06.198Z"
   },
   {
    "duration": 18,
    "start_time": "2023-05-13T19:23:06.400Z"
   },
   {
    "duration": 254,
    "start_time": "2023-05-13T19:23:06.421Z"
   },
   {
    "duration": 2012,
    "start_time": "2023-05-13T19:23:06.676Z"
   },
   {
    "duration": 5,
    "start_time": "2023-05-13T19:23:08.695Z"
   },
   {
    "duration": 11,
    "start_time": "2023-05-13T19:23:08.701Z"
   },
   {
    "duration": 251,
    "start_time": "2023-05-13T19:23:08.714Z"
   },
   {
    "duration": 256,
    "start_time": "2023-05-13T19:23:08.967Z"
   },
   {
    "duration": 153,
    "start_time": "2023-05-13T19:23:09.225Z"
   },
   {
    "duration": 15,
    "start_time": "2023-05-13T19:23:09.380Z"
   },
   {
    "duration": 10,
    "start_time": "2023-05-13T19:23:09.396Z"
   },
   {
    "duration": 18,
    "start_time": "2023-05-13T19:23:09.408Z"
   },
   {
    "duration": 13,
    "start_time": "2023-05-13T19:23:09.427Z"
   },
   {
    "duration": 11,
    "start_time": "2023-05-13T19:23:09.442Z"
   },
   {
    "duration": 263,
    "start_time": "2023-05-13T19:23:09.455Z"
   },
   {
    "duration": 299,
    "start_time": "2023-05-13T19:23:09.720Z"
   },
   {
    "duration": 2,
    "start_time": "2023-05-13T19:23:10.021Z"
   },
   {
    "duration": 573,
    "start_time": "2023-05-13T19:23:10.025Z"
   },
   {
    "duration": 15,
    "start_time": "2023-05-13T19:23:10.599Z"
   },
   {
    "duration": 9,
    "start_time": "2023-05-13T19:23:10.616Z"
   },
   {
    "duration": 222,
    "start_time": "2023-05-13T19:23:10.626Z"
   },
   {
    "duration": 216,
    "start_time": "2023-05-13T19:23:10.849Z"
   },
   {
    "duration": 194,
    "start_time": "2023-05-13T19:23:11.067Z"
   },
   {
    "duration": 13,
    "start_time": "2023-05-13T19:23:11.262Z"
   },
   {
    "duration": 21,
    "start_time": "2023-05-13T19:23:11.276Z"
   },
   {
    "duration": 19,
    "start_time": "2023-05-13T19:23:11.299Z"
   },
   {
    "duration": 18,
    "start_time": "2023-05-13T19:23:11.320Z"
   },
   {
    "duration": 12,
    "start_time": "2023-05-13T19:23:11.340Z"
   },
   {
    "duration": 7,
    "start_time": "2023-05-13T19:23:11.353Z"
   },
   {
    "duration": 12,
    "start_time": "2023-05-13T19:23:11.361Z"
   },
   {
    "duration": 22,
    "start_time": "2023-05-13T19:23:11.374Z"
   },
   {
    "duration": 16,
    "start_time": "2023-05-13T19:23:11.397Z"
   },
   {
    "duration": 7,
    "start_time": "2023-05-13T19:23:11.415Z"
   },
   {
    "duration": 5,
    "start_time": "2023-05-13T19:23:26.441Z"
   },
   {
    "duration": 253,
    "start_time": "2023-05-13T19:23:32.705Z"
   },
   {
    "duration": 219,
    "start_time": "2023-05-13T19:24:26.299Z"
   },
   {
    "duration": 221,
    "start_time": "2023-05-13T19:27:55.233Z"
   },
   {
    "duration": 1116,
    "start_time": "2023-05-13T19:28:54.050Z"
   },
   {
    "duration": 53,
    "start_time": "2023-05-13T19:28:55.168Z"
   },
   {
    "duration": 17,
    "start_time": "2023-05-13T19:28:55.223Z"
   },
   {
    "duration": 14,
    "start_time": "2023-05-13T19:28:55.241Z"
   },
   {
    "duration": 4,
    "start_time": "2023-05-13T19:28:55.256Z"
   },
   {
    "duration": 10,
    "start_time": "2023-05-13T19:28:55.261Z"
   },
   {
    "duration": 34,
    "start_time": "2023-05-13T19:28:55.272Z"
   },
   {
    "duration": 9,
    "start_time": "2023-05-13T19:28:55.308Z"
   },
   {
    "duration": 2,
    "start_time": "2023-05-13T19:28:55.319Z"
   },
   {
    "duration": 12,
    "start_time": "2023-05-13T19:28:55.323Z"
   },
   {
    "duration": 7,
    "start_time": "2023-05-13T19:28:55.336Z"
   },
   {
    "duration": 10,
    "start_time": "2023-05-13T19:28:55.344Z"
   },
   {
    "duration": 59,
    "start_time": "2023-05-13T19:28:55.355Z"
   },
   {
    "duration": 11,
    "start_time": "2023-05-13T19:28:55.415Z"
   },
   {
    "duration": 12,
    "start_time": "2023-05-13T19:28:55.427Z"
   },
   {
    "duration": 14,
    "start_time": "2023-05-13T19:28:55.440Z"
   },
   {
    "duration": 6,
    "start_time": "2023-05-13T19:28:55.455Z"
   },
   {
    "duration": 5,
    "start_time": "2023-05-13T19:28:55.462Z"
   },
   {
    "duration": 18,
    "start_time": "2023-05-13T19:28:55.468Z"
   },
   {
    "duration": 8,
    "start_time": "2023-05-13T19:28:55.488Z"
   },
   {
    "duration": 14,
    "start_time": "2023-05-13T19:28:55.497Z"
   },
   {
    "duration": 16,
    "start_time": "2023-05-13T19:28:55.512Z"
   },
   {
    "duration": 4,
    "start_time": "2023-05-13T19:28:55.530Z"
   },
   {
    "duration": 11,
    "start_time": "2023-05-13T19:28:55.535Z"
   },
   {
    "duration": 238,
    "start_time": "2023-05-13T19:28:55.548Z"
   },
   {
    "duration": 190,
    "start_time": "2023-05-13T19:28:55.794Z"
   },
   {
    "duration": 22,
    "start_time": "2023-05-13T19:28:55.986Z"
   },
   {
    "duration": 219,
    "start_time": "2023-05-13T19:28:56.012Z"
   },
   {
    "duration": 1942,
    "start_time": "2023-05-13T19:28:56.233Z"
   },
   {
    "duration": 5,
    "start_time": "2023-05-13T19:28:58.176Z"
   },
   {
    "duration": 13,
    "start_time": "2023-05-13T19:28:58.182Z"
   },
   {
    "duration": 245,
    "start_time": "2023-05-13T19:28:58.196Z"
   },
   {
    "duration": 244,
    "start_time": "2023-05-13T19:28:58.442Z"
   },
   {
    "duration": 140,
    "start_time": "2023-05-13T19:28:58.688Z"
   },
   {
    "duration": 9,
    "start_time": "2023-05-13T19:28:58.830Z"
   },
   {
    "duration": 11,
    "start_time": "2023-05-13T19:28:58.840Z"
   },
   {
    "duration": 10,
    "start_time": "2023-05-13T19:28:58.852Z"
   },
   {
    "duration": 13,
    "start_time": "2023-05-13T19:28:58.863Z"
   },
   {
    "duration": 22,
    "start_time": "2023-05-13T19:28:58.877Z"
   },
   {
    "duration": 223,
    "start_time": "2023-05-13T19:28:58.901Z"
   },
   {
    "duration": 243,
    "start_time": "2023-05-13T19:28:59.126Z"
   },
   {
    "duration": 2,
    "start_time": "2023-05-13T19:28:59.370Z"
   },
   {
    "duration": 438,
    "start_time": "2023-05-13T19:28:59.373Z"
   },
   {
    "duration": 13,
    "start_time": "2023-05-13T19:28:59.813Z"
   },
   {
    "duration": 34,
    "start_time": "2023-05-13T19:28:59.828Z"
   },
   {
    "duration": 197,
    "start_time": "2023-05-13T19:28:59.864Z"
   },
   {
    "duration": 184,
    "start_time": "2023-05-13T19:29:00.063Z"
   },
   {
    "duration": 185,
    "start_time": "2023-05-13T19:29:00.249Z"
   },
   {
    "duration": 26,
    "start_time": "2023-05-13T19:29:00.436Z"
   },
   {
    "duration": 36,
    "start_time": "2023-05-13T19:29:00.464Z"
   },
   {
    "duration": 28,
    "start_time": "2023-05-13T19:29:00.502Z"
   },
   {
    "duration": 36,
    "start_time": "2023-05-13T19:29:00.532Z"
   },
   {
    "duration": 43,
    "start_time": "2023-05-13T19:29:00.570Z"
   },
   {
    "duration": 39,
    "start_time": "2023-05-13T19:29:00.615Z"
   },
   {
    "duration": 27,
    "start_time": "2023-05-13T19:29:00.656Z"
   },
   {
    "duration": 34,
    "start_time": "2023-05-13T19:29:00.685Z"
   },
   {
    "duration": 42,
    "start_time": "2023-05-13T19:29:00.720Z"
   },
   {
    "duration": 47,
    "start_time": "2023-05-13T19:29:00.764Z"
   },
   {
    "duration": 118,
    "start_time": "2023-05-13T19:33:50.849Z"
   },
   {
    "duration": 10,
    "start_time": "2023-05-13T19:33:56.260Z"
   },
   {
    "duration": 15,
    "start_time": "2023-05-13T19:34:14.636Z"
   },
   {
    "duration": 10,
    "start_time": "2023-05-13T19:34:17.635Z"
   },
   {
    "duration": 279,
    "start_time": "2023-05-13T19:35:32.460Z"
   },
   {
    "duration": 7,
    "start_time": "2023-05-13T19:35:49.144Z"
   },
   {
    "duration": 183,
    "start_time": "2023-05-13T19:35:59.461Z"
   },
   {
    "duration": 8,
    "start_time": "2023-05-13T19:36:10.844Z"
   },
   {
    "duration": 22,
    "start_time": "2023-05-13T19:36:11.549Z"
   },
   {
    "duration": 10,
    "start_time": "2023-05-13T19:36:13.742Z"
   },
   {
    "duration": 7,
    "start_time": "2023-05-13T19:36:42.541Z"
   },
   {
    "duration": 229,
    "start_time": "2023-05-13T19:41:02.578Z"
   },
   {
    "duration": 335,
    "start_time": "2023-05-13T19:41:17.720Z"
   },
   {
    "duration": 206,
    "start_time": "2023-05-13T19:42:14.051Z"
   },
   {
    "duration": 225,
    "start_time": "2023-05-13T19:42:39.197Z"
   },
   {
    "duration": 244,
    "start_time": "2023-05-13T19:43:30.838Z"
   },
   {
    "duration": 233,
    "start_time": "2023-05-13T19:44:06.289Z"
   },
   {
    "duration": 226,
    "start_time": "2023-05-13T19:44:19.024Z"
   },
   {
    "duration": 387,
    "start_time": "2023-05-13T19:44:47.033Z"
   },
   {
    "duration": 232,
    "start_time": "2023-05-13T19:44:56.587Z"
   },
   {
    "duration": 3,
    "start_time": "2023-05-13T19:47:52.259Z"
   },
   {
    "duration": 242,
    "start_time": "2023-05-13T19:51:03.785Z"
   },
   {
    "duration": 235,
    "start_time": "2023-05-13T19:51:13.330Z"
   },
   {
    "duration": 249,
    "start_time": "2023-05-13T19:52:23.184Z"
   },
   {
    "duration": 289,
    "start_time": "2023-05-13T19:55:42.532Z"
   },
   {
    "duration": 254,
    "start_time": "2023-05-13T19:56:22.505Z"
   },
   {
    "duration": 1502,
    "start_time": "2023-05-13T20:00:44.762Z"
   },
   {
    "duration": 1390,
    "start_time": "2023-05-13T20:01:40.276Z"
   },
   {
    "duration": 264,
    "start_time": "2023-05-13T20:12:49.982Z"
   },
   {
    "duration": 145,
    "start_time": "2023-05-13T20:21:52.289Z"
   },
   {
    "duration": 148,
    "start_time": "2023-05-13T20:22:53.278Z"
   },
   {
    "duration": 48,
    "start_time": "2024-07-06T11:41:19.374Z"
   },
   {
    "duration": 7,
    "start_time": "2024-07-06T11:41:30.665Z"
   },
   {
    "duration": 1221,
    "start_time": "2024-07-06T11:41:41.474Z"
   },
   {
    "duration": 182,
    "start_time": "2024-07-06T11:41:42.697Z"
   },
   {
    "duration": 20,
    "start_time": "2024-07-06T11:41:42.880Z"
   },
   {
    "duration": 13,
    "start_time": "2024-07-06T11:41:42.901Z"
   },
   {
    "duration": 13,
    "start_time": "2024-07-06T11:41:42.915Z"
   },
   {
    "duration": 11,
    "start_time": "2024-07-06T11:41:42.929Z"
   },
   {
    "duration": 14,
    "start_time": "2024-07-06T11:41:42.941Z"
   },
   {
    "duration": 8,
    "start_time": "2024-07-06T11:41:42.956Z"
   },
   {
    "duration": 4,
    "start_time": "2024-07-06T11:41:42.966Z"
   },
   {
    "duration": 16,
    "start_time": "2024-07-06T11:41:42.972Z"
   },
   {
    "duration": 26,
    "start_time": "2024-07-06T11:41:42.990Z"
   },
   {
    "duration": 17,
    "start_time": "2024-07-06T11:41:43.018Z"
   },
   {
    "duration": 10,
    "start_time": "2024-07-06T11:41:43.037Z"
   },
   {
    "duration": 7,
    "start_time": "2024-07-06T11:41:43.048Z"
   },
   {
    "duration": 74,
    "start_time": "2024-07-06T11:41:43.057Z"
   },
   {
    "duration": 32,
    "start_time": "2024-07-06T11:41:43.132Z"
   },
   {
    "duration": 4,
    "start_time": "2024-07-06T11:41:43.166Z"
   },
   {
    "duration": 22,
    "start_time": "2024-07-06T11:41:43.171Z"
   },
   {
    "duration": 15,
    "start_time": "2024-07-06T11:41:43.194Z"
   },
   {
    "duration": 8,
    "start_time": "2024-07-06T11:41:43.210Z"
   },
   {
    "duration": 21,
    "start_time": "2024-07-06T11:41:43.219Z"
   },
   {
    "duration": 22,
    "start_time": "2024-07-06T11:41:43.241Z"
   },
   {
    "duration": 4,
    "start_time": "2024-07-06T11:41:43.265Z"
   },
   {
    "duration": 14,
    "start_time": "2024-07-06T11:41:43.270Z"
   },
   {
    "duration": 239,
    "start_time": "2024-07-06T11:41:43.285Z"
   },
   {
    "duration": 189,
    "start_time": "2024-07-06T11:41:43.526Z"
   },
   {
    "duration": 17,
    "start_time": "2024-07-06T11:41:43.716Z"
   },
   {
    "duration": 232,
    "start_time": "2024-07-06T11:41:43.737Z"
   },
   {
    "duration": 1905,
    "start_time": "2024-07-06T11:41:43.971Z"
   },
   {
    "duration": 5,
    "start_time": "2024-07-06T11:41:45.878Z"
   },
   {
    "duration": 59,
    "start_time": "2024-07-06T11:41:45.884Z"
   },
   {
    "duration": 229,
    "start_time": "2024-07-06T11:41:45.944Z"
   },
   {
    "duration": 239,
    "start_time": "2024-07-06T11:41:46.174Z"
   },
   {
    "duration": 132,
    "start_time": "2024-07-06T11:41:46.414Z"
   },
   {
    "duration": 9,
    "start_time": "2024-07-06T11:41:46.548Z"
   },
   {
    "duration": 14,
    "start_time": "2024-07-06T11:41:46.558Z"
   },
   {
    "duration": 8,
    "start_time": "2024-07-06T11:41:46.574Z"
   },
   {
    "duration": 34,
    "start_time": "2024-07-06T11:41:46.584Z"
   },
   {
    "duration": 10,
    "start_time": "2024-07-06T11:41:46.620Z"
   },
   {
    "duration": 3,
    "start_time": "2024-07-06T11:41:46.632Z"
   },
   {
    "duration": 278,
    "start_time": "2024-07-06T11:41:46.637Z"
   },
   {
    "duration": 150,
    "start_time": "2024-07-06T11:41:46.916Z"
   },
   {
    "duration": 1,
    "start_time": "2024-07-06T11:41:47.068Z"
   },
   {
    "duration": 374,
    "start_time": "2024-07-06T11:41:47.070Z"
   },
   {
    "duration": 12,
    "start_time": "2024-07-06T11:41:47.446Z"
   },
   {
    "duration": 7,
    "start_time": "2024-07-06T11:41:47.460Z"
   },
   {
    "duration": 300,
    "start_time": "2024-07-06T11:41:47.468Z"
   },
   {
    "duration": 185,
    "start_time": "2024-07-06T11:41:47.770Z"
   },
   {
    "duration": 174,
    "start_time": "2024-07-06T11:41:47.957Z"
   },
   {
    "duration": 13,
    "start_time": "2024-07-06T11:41:48.132Z"
   },
   {
    "duration": 12,
    "start_time": "2024-07-06T11:41:48.146Z"
   },
   {
    "duration": 23,
    "start_time": "2024-07-06T11:41:48.159Z"
   },
   {
    "duration": 13,
    "start_time": "2024-07-06T11:41:48.184Z"
   },
   {
    "duration": 18,
    "start_time": "2024-07-06T11:41:48.209Z"
   },
   {
    "duration": 2,
    "start_time": "2024-07-06T11:41:48.228Z"
   },
   {
    "duration": 11,
    "start_time": "2024-07-06T11:41:48.231Z"
   },
   {
    "duration": 7,
    "start_time": "2024-07-06T11:41:48.243Z"
   },
   {
    "duration": 8,
    "start_time": "2024-07-06T11:41:48.251Z"
   },
   {
    "duration": 5,
    "start_time": "2024-07-06T11:41:48.260Z"
   }
  ],
  "kernelspec": {
   "display_name": "Python 3 (ipykernel)",
   "language": "python",
   "name": "python3"
  },
  "language_info": {
   "codemirror_mode": {
    "name": "ipython",
    "version": 3
   },
   "file_extension": ".py",
   "mimetype": "text/x-python",
   "name": "python",
   "nbconvert_exporter": "python",
   "pygments_lexer": "ipython3",
   "version": "3.9.5"
  },
  "toc": {
   "base_numbering": 1,
   "nav_menu": {},
   "number_sections": true,
   "sideBar": true,
   "skip_h1_title": true,
   "title_cell": "Table of Contents",
   "title_sidebar": "Contents",
   "toc_cell": false,
   "toc_position": {},
   "toc_section_display": true,
   "toc_window_display": false
  }
 },
 "nbformat": 4,
 "nbformat_minor": 2
}
